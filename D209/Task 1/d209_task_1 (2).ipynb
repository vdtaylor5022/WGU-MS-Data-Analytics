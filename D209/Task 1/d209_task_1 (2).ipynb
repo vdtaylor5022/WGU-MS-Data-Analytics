{
 "cells": [
  {
   "cell_type": "markdown",
   "id": "6af59a6a",
   "metadata": {},
   "source": [
    "# D209 Task 1 PA (Classification Analysis)\n",
    "Vincent Taylor"
   ]
  },
  {
   "cell_type": "markdown",
   "id": "672ba993",
   "metadata": {},
   "source": [
    "---\n",
    "\n",
    "## Part I\n",
    "\n",
    "***Research Question***\n",
    "\n",
    "The research question I want to answer for this analysis is what features contribute most to a customer churn? The question itself is fairly broad, however I believe it is the most important question we need to answer in terms of remaining a going concern in the telecom landscape. A piece from the CFA Institute goes on to define churn as *\"Customer churn rate (also known as customer attrition rate) measures the proportion of contractual customers of a company who cease their subscriptions over a defined time period.\"* As I have discussed in prior write-ups the cost to acquire a customer is more expensive than it is to maintin an already existing customer. The benefits associated with this analysis are as follows; being able to indentify key aspects that contribute to customer churn will allow for the creation of strategies that can be implemented in order to mitigate the amount of customers choosing to churn. This can lead to a direct cost savings by not having to focuse as heavily on marketing to new customers. Another benefit associated for the company would be the competitve advantage that is created by using data in order to inform insights. I will answer this question using k-Nearest-Neighbors (KNN). \n",
    "\n",
    "**Objectives and Goals for this analysis**\n",
    "\n",
    "The primary goal for this particular analysis is to be able to determine when a customer is likely to churn similar d208 task 2 we want to build a model that will help us predict the likelihood of churn and I would also like to see if we could get the accuracy of our model to be more accurate than the model we created in task 2 for D208. If the model is not able to predict churn more accurately than the logistic model, I would accept an accuracy greater than 70%. Based on the amount of predictor/independent variables we have in this dataset that we could use to aid with our prediction of churn. We will also need to check to see if there are more instances of churn than not churn and potentially using techniques like oversampling to ensure that the predictions of the model don't show bias. We want to create a model that would be something that we could easily deploy to make predictions on unseen data.\n",
    "\n",
    "---\n",
    "\n",
    "## Part II Method Justification\n",
    "\n",
    "***Justificaton of Method***\n",
    "\n",
    "For this task I will be using K-Nearest Neighbor (KNN). KNN is useful in both classification and regression. Datacamp describes KNN as a \"voting system\" in which the majority class label determines the class label of a new data point among it's nearest k neighbors in the feature space. I chose to use KNN for this task due to it being the most widely used for classification problems in the industry. My interpretation I got out of it was that it is an algorithm that stores all cases of a particular instance or variable and when new data is added it classifies it based on its similarity to variables it has seen. KNN is also easily interperatable and is easy to implement. KNN also does not require a training phase for data. Some cons associated with KNN with are it is extremely intensive on computer memory as it stores the entire training dataset, this can lead to the speed of predictions taking some time due to its need to compute distances and find neighbors within each data point. KNN is also extremely sensitive to outliers and we can see distored calculations influence predictions negatively. Lastly KNN would not perform well on high dimensonal data outputs where the number of features is similar to the number of or greater than the number of observations.\n",
    "\n",
    "***Assumption of Classification Method***\n",
    "\n",
    "One assumption of KNN is that the closer two points are together the more related they are, this is known as the local smoothness assumption. KNN uses distance measures to calculate proximity between datapoints the measures include; Manhattan and Euclidean distances or cosine similarity. We can also use visualization techniques such as PCA or scatter plots to see the proximity of features. \n",
    "\n",
    "***Package/Libarary Selection**\n",
    "\n",
    "I chose to use Python to perform this analysis due to its ability to handle data analysis as well as it's ease of use when it comes to visualizing and performing statitsitcal modeling. I will also be using various packages in order to perform this analysis.\n",
    "\n",
    "- Numpy and Pandas: Data analysis and preperation\n",
    "- Matplotlib and Seaborn:Data visualization\n",
    "- Scikit-learn: Machine learning and predictive modeling\n",
    "\n",
    "\n",
    "\n",
    "---"
   ]
  },
  {
   "cell_type": "code",
   "execution_count": 1,
   "id": "72b6dd6e",
   "metadata": {},
   "outputs": [
    {
     "data": {
      "text/html": [
       "<div>\n",
       "<style scoped>\n",
       "    .dataframe tbody tr th:only-of-type {\n",
       "        vertical-align: middle;\n",
       "    }\n",
       "\n",
       "    .dataframe tbody tr th {\n",
       "        vertical-align: top;\n",
       "    }\n",
       "\n",
       "    .dataframe thead th {\n",
       "        text-align: right;\n",
       "    }\n",
       "</style>\n",
       "<table border=\"1\" class=\"dataframe\">\n",
       "  <thead>\n",
       "    <tr style=\"text-align: right;\">\n",
       "      <th></th>\n",
       "      <th>Customer_id</th>\n",
       "      <th>Interaction</th>\n",
       "      <th>UID</th>\n",
       "      <th>City</th>\n",
       "      <th>State</th>\n",
       "      <th>County</th>\n",
       "      <th>Zip</th>\n",
       "      <th>Lat</th>\n",
       "      <th>Lng</th>\n",
       "      <th>Population</th>\n",
       "      <th>...</th>\n",
       "      <th>MonthlyCharge</th>\n",
       "      <th>Bandwidth_GB_Year</th>\n",
       "      <th>Item1</th>\n",
       "      <th>Item2</th>\n",
       "      <th>Item3</th>\n",
       "      <th>Item4</th>\n",
       "      <th>Item5</th>\n",
       "      <th>Item6</th>\n",
       "      <th>Item7</th>\n",
       "      <th>Item8</th>\n",
       "    </tr>\n",
       "    <tr>\n",
       "      <th>CaseOrder</th>\n",
       "      <th></th>\n",
       "      <th></th>\n",
       "      <th></th>\n",
       "      <th></th>\n",
       "      <th></th>\n",
       "      <th></th>\n",
       "      <th></th>\n",
       "      <th></th>\n",
       "      <th></th>\n",
       "      <th></th>\n",
       "      <th></th>\n",
       "      <th></th>\n",
       "      <th></th>\n",
       "      <th></th>\n",
       "      <th></th>\n",
       "      <th></th>\n",
       "      <th></th>\n",
       "      <th></th>\n",
       "      <th></th>\n",
       "      <th></th>\n",
       "      <th></th>\n",
       "    </tr>\n",
       "  </thead>\n",
       "  <tbody>\n",
       "    <tr>\n",
       "      <th>1</th>\n",
       "      <td>K409198</td>\n",
       "      <td>aa90260b-4141-4a24-8e36-b04ce1f4f77b</td>\n",
       "      <td>e885b299883d4f9fb18e39c75155d990</td>\n",
       "      <td>Point Baker</td>\n",
       "      <td>AK</td>\n",
       "      <td>Prince of Wales-Hyder</td>\n",
       "      <td>99927</td>\n",
       "      <td>56.25100</td>\n",
       "      <td>-133.37571</td>\n",
       "      <td>38</td>\n",
       "      <td>...</td>\n",
       "      <td>172.455519</td>\n",
       "      <td>904.536110</td>\n",
       "      <td>5</td>\n",
       "      <td>5</td>\n",
       "      <td>5</td>\n",
       "      <td>3</td>\n",
       "      <td>4</td>\n",
       "      <td>4</td>\n",
       "      <td>3</td>\n",
       "      <td>4</td>\n",
       "    </tr>\n",
       "    <tr>\n",
       "      <th>2</th>\n",
       "      <td>S120509</td>\n",
       "      <td>fb76459f-c047-4a9d-8af9-e0f7d4ac2524</td>\n",
       "      <td>f2de8bef964785f41a2959829830fb8a</td>\n",
       "      <td>West Branch</td>\n",
       "      <td>MI</td>\n",
       "      <td>Ogemaw</td>\n",
       "      <td>48661</td>\n",
       "      <td>44.32893</td>\n",
       "      <td>-84.24080</td>\n",
       "      <td>10446</td>\n",
       "      <td>...</td>\n",
       "      <td>242.632554</td>\n",
       "      <td>800.982766</td>\n",
       "      <td>3</td>\n",
       "      <td>4</td>\n",
       "      <td>3</td>\n",
       "      <td>3</td>\n",
       "      <td>4</td>\n",
       "      <td>3</td>\n",
       "      <td>4</td>\n",
       "      <td>4</td>\n",
       "    </tr>\n",
       "    <tr>\n",
       "      <th>3</th>\n",
       "      <td>K191035</td>\n",
       "      <td>344d114c-3736-4be5-98f7-c72c281e2d35</td>\n",
       "      <td>f1784cfa9f6d92ae816197eb175d3c71</td>\n",
       "      <td>Yamhill</td>\n",
       "      <td>OR</td>\n",
       "      <td>Yamhill</td>\n",
       "      <td>97148</td>\n",
       "      <td>45.35589</td>\n",
       "      <td>-123.24657</td>\n",
       "      <td>3735</td>\n",
       "      <td>...</td>\n",
       "      <td>159.947583</td>\n",
       "      <td>2054.706961</td>\n",
       "      <td>4</td>\n",
       "      <td>4</td>\n",
       "      <td>2</td>\n",
       "      <td>4</td>\n",
       "      <td>4</td>\n",
       "      <td>3</td>\n",
       "      <td>3</td>\n",
       "      <td>3</td>\n",
       "    </tr>\n",
       "    <tr>\n",
       "      <th>4</th>\n",
       "      <td>D90850</td>\n",
       "      <td>abfa2b40-2d43-4994-b15a-989b8c79e311</td>\n",
       "      <td>dc8a365077241bb5cd5ccd305136b05e</td>\n",
       "      <td>Del Mar</td>\n",
       "      <td>CA</td>\n",
       "      <td>San Diego</td>\n",
       "      <td>92014</td>\n",
       "      <td>32.96687</td>\n",
       "      <td>-117.24798</td>\n",
       "      <td>13863</td>\n",
       "      <td>...</td>\n",
       "      <td>119.956840</td>\n",
       "      <td>2164.579412</td>\n",
       "      <td>4</td>\n",
       "      <td>4</td>\n",
       "      <td>4</td>\n",
       "      <td>2</td>\n",
       "      <td>5</td>\n",
       "      <td>4</td>\n",
       "      <td>3</td>\n",
       "      <td>3</td>\n",
       "    </tr>\n",
       "    <tr>\n",
       "      <th>5</th>\n",
       "      <td>K662701</td>\n",
       "      <td>68a861fd-0d20-4e51-a587-8a90407ee574</td>\n",
       "      <td>aabb64a116e83fdc4befc1fbab1663f9</td>\n",
       "      <td>Needville</td>\n",
       "      <td>TX</td>\n",
       "      <td>Fort Bend</td>\n",
       "      <td>77461</td>\n",
       "      <td>29.38012</td>\n",
       "      <td>-95.80673</td>\n",
       "      <td>11352</td>\n",
       "      <td>...</td>\n",
       "      <td>149.948316</td>\n",
       "      <td>271.493436</td>\n",
       "      <td>4</td>\n",
       "      <td>4</td>\n",
       "      <td>4</td>\n",
       "      <td>3</td>\n",
       "      <td>4</td>\n",
       "      <td>4</td>\n",
       "      <td>4</td>\n",
       "      <td>5</td>\n",
       "    </tr>\n",
       "  </tbody>\n",
       "</table>\n",
       "<p>5 rows × 49 columns</p>\n",
       "</div>"
      ],
      "text/plain": [
       "          Customer_id                           Interaction  \\\n",
       "CaseOrder                                                     \n",
       "1             K409198  aa90260b-4141-4a24-8e36-b04ce1f4f77b   \n",
       "2             S120509  fb76459f-c047-4a9d-8af9-e0f7d4ac2524   \n",
       "3             K191035  344d114c-3736-4be5-98f7-c72c281e2d35   \n",
       "4              D90850  abfa2b40-2d43-4994-b15a-989b8c79e311   \n",
       "5             K662701  68a861fd-0d20-4e51-a587-8a90407ee574   \n",
       "\n",
       "                                        UID         City State  \\\n",
       "CaseOrder                                                        \n",
       "1          e885b299883d4f9fb18e39c75155d990  Point Baker    AK   \n",
       "2          f2de8bef964785f41a2959829830fb8a  West Branch    MI   \n",
       "3          f1784cfa9f6d92ae816197eb175d3c71      Yamhill    OR   \n",
       "4          dc8a365077241bb5cd5ccd305136b05e      Del Mar    CA   \n",
       "5          aabb64a116e83fdc4befc1fbab1663f9    Needville    TX   \n",
       "\n",
       "                          County    Zip       Lat        Lng  Population  ...  \\\n",
       "CaseOrder                                                                 ...   \n",
       "1          Prince of Wales-Hyder  99927  56.25100 -133.37571          38  ...   \n",
       "2                         Ogemaw  48661  44.32893  -84.24080       10446  ...   \n",
       "3                        Yamhill  97148  45.35589 -123.24657        3735  ...   \n",
       "4                      San Diego  92014  32.96687 -117.24798       13863  ...   \n",
       "5                      Fort Bend  77461  29.38012  -95.80673       11352  ...   \n",
       "\n",
       "          MonthlyCharge Bandwidth_GB_Year Item1  Item2  Item3  Item4 Item5  \\\n",
       "CaseOrder                                                                    \n",
       "1            172.455519        904.536110     5      5      5      3     4   \n",
       "2            242.632554        800.982766     3      4      3      3     4   \n",
       "3            159.947583       2054.706961     4      4      2      4     4   \n",
       "4            119.956840       2164.579412     4      4      4      2     5   \n",
       "5            149.948316        271.493436     4      4      4      3     4   \n",
       "\n",
       "          Item6 Item7  Item8  \n",
       "CaseOrder                     \n",
       "1             4     3      4  \n",
       "2             3     4      4  \n",
       "3             3     3      3  \n",
       "4             4     3      3  \n",
       "5             4     4      5  \n",
       "\n",
       "[5 rows x 49 columns]"
      ]
     },
     "execution_count": 1,
     "metadata": {},
     "output_type": "execute_result"
    }
   ],
   "source": [
    "#Import Libraries\n",
    "import pandas as pd\n",
    "import numpy as np\n",
    "import matplotlib.pyplot as plt\n",
    "import seaborn as sns\n",
    "from sklearn.neighbors import KNeighborsClassifier\n",
    "from sklearn.model_selection import train_test_split\n",
    "from sklearn.metrics import auc, roc_curve, roc_auc_score, classification_report, confusion_matrix, accuracy_score\n",
    "\n",
    "# import data from csv\n",
    "df = pd.read_csv('churn_clean.csv', index_col=0)\n",
    "df.head()"
   ]
  },
  {
   "cell_type": "code",
   "execution_count": 2,
   "id": "45446b90",
   "metadata": {},
   "outputs": [
    {
     "name": "stdout",
     "output_type": "stream",
     "text": [
      "<class 'pandas.core.frame.DataFrame'>\n",
      "Int64Index: 10000 entries, 1 to 10000\n",
      "Data columns (total 49 columns):\n",
      " #   Column                Non-Null Count  Dtype  \n",
      "---  ------                --------------  -----  \n",
      " 0   Customer_id           10000 non-null  object \n",
      " 1   Interaction           10000 non-null  object \n",
      " 2   UID                   10000 non-null  object \n",
      " 3   City                  10000 non-null  object \n",
      " 4   State                 10000 non-null  object \n",
      " 5   County                10000 non-null  object \n",
      " 6   Zip                   10000 non-null  int64  \n",
      " 7   Lat                   10000 non-null  float64\n",
      " 8   Lng                   10000 non-null  float64\n",
      " 9   Population            10000 non-null  int64  \n",
      " 10  Area                  10000 non-null  object \n",
      " 11  TimeZone              10000 non-null  object \n",
      " 12  Job                   10000 non-null  object \n",
      " 13  Children              10000 non-null  int64  \n",
      " 14  Age                   10000 non-null  int64  \n",
      " 15  Income                10000 non-null  float64\n",
      " 16  Marital               10000 non-null  object \n",
      " 17  Gender                10000 non-null  object \n",
      " 18  Churn                 10000 non-null  object \n",
      " 19  Outage_sec_perweek    10000 non-null  float64\n",
      " 20  Email                 10000 non-null  int64  \n",
      " 21  Contacts              10000 non-null  int64  \n",
      " 22  Yearly_equip_failure  10000 non-null  int64  \n",
      " 23  Techie                10000 non-null  object \n",
      " 24  Contract              10000 non-null  object \n",
      " 25  Port_modem            10000 non-null  object \n",
      " 26  Tablet                10000 non-null  object \n",
      " 27  InternetService       10000 non-null  object \n",
      " 28  Phone                 10000 non-null  object \n",
      " 29  Multiple              10000 non-null  object \n",
      " 30  OnlineSecurity        10000 non-null  object \n",
      " 31  OnlineBackup          10000 non-null  object \n",
      " 32  DeviceProtection      10000 non-null  object \n",
      " 33  TechSupport           10000 non-null  object \n",
      " 34  StreamingTV           10000 non-null  object \n",
      " 35  StreamingMovies       10000 non-null  object \n",
      " 36  PaperlessBilling      10000 non-null  object \n",
      " 37  PaymentMethod         10000 non-null  object \n",
      " 38  Tenure                10000 non-null  float64\n",
      " 39  MonthlyCharge         10000 non-null  float64\n",
      " 40  Bandwidth_GB_Year     10000 non-null  float64\n",
      " 41  Item1                 10000 non-null  int64  \n",
      " 42  Item2                 10000 non-null  int64  \n",
      " 43  Item3                 10000 non-null  int64  \n",
      " 44  Item4                 10000 non-null  int64  \n",
      " 45  Item5                 10000 non-null  int64  \n",
      " 46  Item6                 10000 non-null  int64  \n",
      " 47  Item7                 10000 non-null  int64  \n",
      " 48  Item8                 10000 non-null  int64  \n",
      "dtypes: float64(7), int64(15), object(27)\n",
      "memory usage: 3.8+ MB\n"
     ]
    }
   ],
   "source": [
    "df.info()"
   ]
  },
  {
   "cell_type": "markdown",
   "id": "2d11615e",
   "metadata": {},
   "source": [
    "### Data Cleaning Goals\n",
    "\n",
    "(C1)\n",
    "In order to prepare the data for KNN Classification I will need to encode the categorical variables to numeric values, as another assumption of KNN is that the predictor variables are numeric in nature. I will also need to change the columns to a pythonic naming convention as done in prior tasks, I will also need to check to ensure that there are no null values in the dataset, lastly will will need to make the dataset more concise and remove features that we arent using in the analysis in order to keep memory stress low on our machine while also ensure we are extracting meaningful features for this analysis. I will also be using features identified in d208 task 2 for this classification model, with the goal of 70% accuracy at  minimum. \n",
    "\n",
    "\n",
    "\n",
    "### Variable Selection\n",
    "\n",
    "(C2)\n",
    "Below are features I intend to use for this KNN analysis. The feature selection process I used is taking the features that showed promise in d208 task2 in order to see if I can use KNN to predict churn better than the logistic model did. I will be removing unecessary variables in order to reduce dimensonality as previously discussed. X represents the independent variables and y represents our dependent variable. \n",
    "\n",
    "---\n",
    "|Variable|Continous/Categorical|x/y|\n",
    "|---|---|---|\n",
    "|Churn|Categorical|***Dependent***|\n",
    "|Techie|Categorical|Independent|\n",
    "|port_modem|Categorical|Independent|\n",
    "|tablet|Categorical|Independent|\n",
    "|phone|Categorical|Independent|\n",
    "|multiple_lines|Categorical|Independent|\n",
    "|online_security|Categorical|Independent|\n",
    "|online_backup|Categorical|Independent|\n",
    "|device_protection|Categorical|Independent|\n",
    "|tech_support|Categorical|Independent|\n",
    "|streaming_tv|Categorical|Independent|\n",
    "|streaming_movies|Categorical|Independent|\n",
    "|paperless_billing|Categorical|Independent|\n",
    "|internet_service_DSL|Categorical|Independent|\n",
    "\n",
    "\n",
    "\n",
    "---\n",
    "\n",
    "### Exploratory Data Analysis\n",
    "\n",
    "(D3)\n",
    "Once the inital data cleaning has been completed I will be exploring the dataset using functions from prior tasks such as `.info()`, `.describe`, as well as `.value_counts()`. I will also verify the dataset to ensure that encoding has been completed using one hot encoding as well dropping already implied columns from the dataset in order to check for any relationships between our y variable and the independent x variables selected for classification. For the classification I will then spilit the data using test_train_split with a 70/30 split with 30% being used to train the model."
   ]
  },
  {
   "cell_type": "code",
   "execution_count": 3,
   "id": "854f3e9c",
   "metadata": {},
   "outputs": [],
   "source": [
    "#Data Cleaning\n",
    "\n",
    "#renaming columns to python casing.\n",
    "col_head = {\n",
    "    'CaseOrder': 'case_order',\n",
    "    'Customer_id': 'customer_id',\n",
    "    'Interaction': 'interaction',\n",
    "    'City': 'city',\n",
    "    'State': 'state',\n",
    "    'County': 'county',\n",
    "    'Zip': 'zip',\n",
    "    'Lat': 'lat',\n",
    "    'Lng': 'lng',\n",
    "    'Population': 'population',  \n",
    "    'Area': 'area',  \n",
    "    'Job': 'job',\n",
    "    'Children': 'children',\n",
    "    'Age': 'age', \n",
    "    'Income': 'income',  \n",
    "    'Marital': 'marital_type',\n",
    "    'Gender': 'gender',\n",
    "    'Churn': 'churn',\n",
    "    'Outage_sec_perweek': 'outage_sec_perweek',\n",
    "    'Email': 'email',\n",
    "    'Contacts': 'contacts',\n",
    "    'Yearly_equip_failure': 'yearly_equip_failure',\n",
    "    'Techie': 'techie',\n",
    "    'Contract': 'contract',\n",
    "    'Port_modem': 'port_modem',\n",
    "    'Tablet': 'tablet',\n",
    "    'InternetService': 'internet_service',\n",
    "    'Phone': 'phone',\n",
    "    'Multiple': 'multiple_lines',\n",
    "    'OnlineSecurity': 'online_security',\n",
    "    'OnlineBackup': 'online_backup',\n",
    "    'DeviceProtection': 'device_protection',\n",
    "    'TechSupport': 'tech_support',\n",
    "    'StreamingTV': 'streaming_tv',\n",
    "    'StreamingMovies': 'streaming_movies',\n",
    "    'PaperlessBilling': 'paperless_billing',\n",
    "    'PaymentMethod': 'payment_method',\n",
    "    'Tenure': 'tenure',\n",
    "    'MonthlyCharge': 'monthly_charge',\n",
    "    'Bandwidth_GB_Year': 'bandwidth_gb_year',\n",
    "    'Item1': 'timely_response',\n",
    "    'Item2': 'timely_fixes',\n",
    "    'Item3': 'timely_replacements',\n",
    "    'Item4': 'reliability',\n",
    "    'Item5': 'options',\n",
    "    'Item6': 'respectful_response',\n",
    "    'Item7': 'courteous_exchange',\n",
    "    'Item8': 'active_listening'}\n",
    "df.rename(columns=col_head, inplace=True)\n",
    "\n",
    "#Reexpressing the values of payment method to be more concise.\n",
    "dict_pay = {\"payment_method\": {\n",
    "     \"Credit Card (automatic)\": \"Autopay\",\n",
    "     \"Bank Transfer(automatic)\": \"Autopay\",\n",
    "     \"Electronic Check\": \"eCheck\",\n",
    "     \"Mailed Check\": \"Check\",\n",
    "}}\n",
    "df.replace(dict_pay, inplace = True)\n",
    "\n",
    "# dropping columns not relevant to analysis\n",
    "df = df.drop(columns=['customer_id', 'interaction', 'UID',\n",
    "                      'city', 'state', 'county','TimeZone', \n",
    "                      'job','zip', 'marital_type',\n",
    "                      'lat', 'lng','population','active_listening',\n",
    "                     'courteous_exchange','respectful_response','options',\n",
    "                     'reliability','timely_replacements','timely_fixes',\n",
    "                     'timely_response','income','area', 'children', 'age', \n",
    "                      'gender','outage_sec_perweek', 'contacts', \n",
    "                      'yearly_equip_failure', 'contract','payment_method', \n",
    "                      'tenure', 'monthly_charge','bandwidth_gb_year','email'])"
   ]
  },
  {
   "cell_type": "code",
   "execution_count": 4,
   "id": "5e8c6bbe",
   "metadata": {},
   "outputs": [
    {
     "name": "stdout",
     "output_type": "stream",
     "text": [
      "No null values.\n"
     ]
    }
   ],
   "source": [
    "#Checking for null values\n",
    "if df.isnull().sum().sum() == 0:\n",
    "    print(\"No null values.\")\n",
    "else:\n",
    "    print(\"Null values exist!\")"
   ]
  },
  {
   "cell_type": "code",
   "execution_count": 5,
   "id": "d59e88d0",
   "metadata": {},
   "outputs": [],
   "source": [
    "#Creating dictionary for unique values and total count for each variable in dataset.\n",
    "unique_count = {}\n",
    "\n",
    "for column in df.columns:\n",
    "    unique_value = df[column].unique()\n",
    "    counts = df[column].value_counts()\n",
    "    unique_count[column] = (unique_value, counts)"
   ]
  },
  {
   "cell_type": "code",
   "execution_count": 6,
   "id": "d2403624",
   "metadata": {},
   "outputs": [
    {
     "data": {
      "text/plain": [
       "(array(['No', 'Yes'], dtype=object),\n",
       " No     8321\n",
       " Yes    1679\n",
       " Name: techie, dtype: int64)"
      ]
     },
     "execution_count": 6,
     "metadata": {},
     "output_type": "execute_result"
    }
   ],
   "source": [
    "unique_count['techie']"
   ]
  },
  {
   "cell_type": "code",
   "execution_count": 7,
   "id": "18866661",
   "metadata": {},
   "outputs": [
    {
     "data": {
      "text/plain": [
       "(array(['No', 'Yes'], dtype=object),\n",
       " No     7350\n",
       " Yes    2650\n",
       " Name: churn, dtype: int64)"
      ]
     },
     "execution_count": 7,
     "metadata": {},
     "output_type": "execute_result"
    }
   ],
   "source": [
    "unique_count['churn']"
   ]
  },
  {
   "cell_type": "code",
   "execution_count": 8,
   "id": "1cd214e2",
   "metadata": {},
   "outputs": [
    {
     "data": {
      "text/plain": [
       "(array(['Yes', 'No'], dtype=object),\n",
       " No     5166\n",
       " Yes    4834\n",
       " Name: port_modem, dtype: int64)"
      ]
     },
     "execution_count": 8,
     "metadata": {},
     "output_type": "execute_result"
    }
   ],
   "source": [
    "unique_count['port_modem']"
   ]
  },
  {
   "cell_type": "code",
   "execution_count": 9,
   "id": "874f3887",
   "metadata": {},
   "outputs": [
    {
     "data": {
      "text/plain": [
       "(array(['Yes', 'No'], dtype=object),\n",
       " No     7009\n",
       " Yes    2991\n",
       " Name: tablet, dtype: int64)"
      ]
     },
     "execution_count": 9,
     "metadata": {},
     "output_type": "execute_result"
    }
   ],
   "source": [
    "unique_count['tablet']"
   ]
  },
  {
   "cell_type": "code",
   "execution_count": 10,
   "id": "de5b352d",
   "metadata": {},
   "outputs": [
    {
     "data": {
      "text/plain": [
       "(array(['Yes', 'No'], dtype=object),\n",
       " Yes    9067\n",
       " No      933\n",
       " Name: phone, dtype: int64)"
      ]
     },
     "execution_count": 10,
     "metadata": {},
     "output_type": "execute_result"
    }
   ],
   "source": [
    "unique_count['phone']"
   ]
  },
  {
   "cell_type": "code",
   "execution_count": 11,
   "id": "9b3fffa5",
   "metadata": {},
   "outputs": [
    {
     "data": {
      "text/plain": [
       "(array(['No', 'Yes'], dtype=object),\n",
       " No     5392\n",
       " Yes    4608\n",
       " Name: multiple_lines, dtype: int64)"
      ]
     },
     "execution_count": 11,
     "metadata": {},
     "output_type": "execute_result"
    }
   ],
   "source": [
    "unique_count['multiple_lines']"
   ]
  },
  {
   "cell_type": "code",
   "execution_count": 12,
   "id": "aa3b8788",
   "metadata": {},
   "outputs": [
    {
     "data": {
      "text/plain": [
       "(array(['Yes', 'No'], dtype=object),\n",
       " No     5494\n",
       " Yes    4506\n",
       " Name: online_backup, dtype: int64)"
      ]
     },
     "execution_count": 12,
     "metadata": {},
     "output_type": "execute_result"
    }
   ],
   "source": [
    "unique_count['online_backup']"
   ]
  },
  {
   "cell_type": "code",
   "execution_count": 13,
   "id": "752465f3",
   "metadata": {},
   "outputs": [
    {
     "data": {
      "text/plain": [
       "(array(['Yes', 'No'], dtype=object),\n",
       " No     6424\n",
       " Yes    3576\n",
       " Name: online_security, dtype: int64)"
      ]
     },
     "execution_count": 13,
     "metadata": {},
     "output_type": "execute_result"
    }
   ],
   "source": [
    "unique_count['online_security']"
   ]
  },
  {
   "cell_type": "code",
   "execution_count": 14,
   "id": "f4381347",
   "metadata": {},
   "outputs": [
    {
     "data": {
      "text/plain": [
       "(array(['No', 'Yes'], dtype=object),\n",
       " No     5614\n",
       " Yes    4386\n",
       " Name: device_protection, dtype: int64)"
      ]
     },
     "execution_count": 14,
     "metadata": {},
     "output_type": "execute_result"
    }
   ],
   "source": [
    "unique_count['device_protection']"
   ]
  },
  {
   "cell_type": "code",
   "execution_count": 15,
   "id": "9b71b5a6",
   "metadata": {},
   "outputs": [
    {
     "data": {
      "text/plain": [
       "(array(['No', 'Yes'], dtype=object),\n",
       " No     5071\n",
       " Yes    4929\n",
       " Name: streaming_tv, dtype: int64)"
      ]
     },
     "execution_count": 15,
     "metadata": {},
     "output_type": "execute_result"
    }
   ],
   "source": [
    "unique_count['streaming_tv']"
   ]
  },
  {
   "cell_type": "code",
   "execution_count": 16,
   "id": "fa2181c8",
   "metadata": {},
   "outputs": [
    {
     "data": {
      "text/plain": [
       "(array(['Yes', 'No'], dtype=object),\n",
       " No     5110\n",
       " Yes    4890\n",
       " Name: streaming_movies, dtype: int64)"
      ]
     },
     "execution_count": 16,
     "metadata": {},
     "output_type": "execute_result"
    }
   ],
   "source": [
    "unique_count['streaming_movies']"
   ]
  },
  {
   "cell_type": "code",
   "execution_count": 17,
   "id": "2bd1e583",
   "metadata": {},
   "outputs": [
    {
     "data": {
      "text/plain": [
       "(array(['Yes', 'No'], dtype=object),\n",
       " Yes    5882\n",
       " No     4118\n",
       " Name: paperless_billing, dtype: int64)"
      ]
     },
     "execution_count": 17,
     "metadata": {},
     "output_type": "execute_result"
    }
   ],
   "source": [
    "unique_count['paperless_billing']"
   ]
  },
  {
   "cell_type": "code",
   "execution_count": 18,
   "id": "85f58c41",
   "metadata": {},
   "outputs": [
    {
     "data": {
      "text/plain": [
       "(array(['Fiber Optic', 'DSL', 'None'], dtype=object),\n",
       " Fiber Optic    4408\n",
       " DSL            3463\n",
       " None           2129\n",
       " Name: internet_service, dtype: int64)"
      ]
     },
     "execution_count": 18,
     "metadata": {},
     "output_type": "execute_result"
    }
   ],
   "source": [
    "unique_count['internet_service']"
   ]
  },
  {
   "cell_type": "code",
   "execution_count": 19,
   "id": "c342e8c0",
   "metadata": {},
   "outputs": [],
   "source": [
    "# Converting yes/no columns to 1/0\n",
    "yes_no_col = ['churn', 'techie', 'port_modem', 'tablet', 'phone', 'multiple_lines', 'online_security', 'online_backup', 'device_protection', 'tech_support', 'streaming_tv', 'streaming_movies', 'paperless_billing']\n",
    "df[yes_no_col] = df[yes_no_col].replace({'Yes': 1, 'No': 0})\n",
    "\n",
    "#Replacing binary non yes/no columns\n",
    "df = pd.get_dummies(df, columns=['internet_service'])\n",
    "\n",
    "#dropping implied column\n",
    "df = df.drop(columns=['internet_service_None'])"
   ]
  },
  {
   "cell_type": "code",
   "execution_count": 20,
   "id": "ea6a68d5",
   "metadata": {},
   "outputs": [
    {
     "data": {
      "text/html": [
       "<div>\n",
       "<style scoped>\n",
       "    .dataframe tbody tr th:only-of-type {\n",
       "        vertical-align: middle;\n",
       "    }\n",
       "\n",
       "    .dataframe tbody tr th {\n",
       "        vertical-align: top;\n",
       "    }\n",
       "\n",
       "    .dataframe thead th {\n",
       "        text-align: right;\n",
       "    }\n",
       "</style>\n",
       "<table border=\"1\" class=\"dataframe\">\n",
       "  <thead>\n",
       "    <tr style=\"text-align: right;\">\n",
       "      <th></th>\n",
       "      <th>churn</th>\n",
       "      <th>techie</th>\n",
       "      <th>port_modem</th>\n",
       "      <th>tablet</th>\n",
       "      <th>phone</th>\n",
       "      <th>multiple_lines</th>\n",
       "      <th>online_security</th>\n",
       "      <th>online_backup</th>\n",
       "      <th>device_protection</th>\n",
       "      <th>tech_support</th>\n",
       "      <th>streaming_tv</th>\n",
       "      <th>streaming_movies</th>\n",
       "      <th>paperless_billing</th>\n",
       "      <th>internet_service_DSL</th>\n",
       "      <th>internet_service_Fiber Optic</th>\n",
       "    </tr>\n",
       "    <tr>\n",
       "      <th>CaseOrder</th>\n",
       "      <th></th>\n",
       "      <th></th>\n",
       "      <th></th>\n",
       "      <th></th>\n",
       "      <th></th>\n",
       "      <th></th>\n",
       "      <th></th>\n",
       "      <th></th>\n",
       "      <th></th>\n",
       "      <th></th>\n",
       "      <th></th>\n",
       "      <th></th>\n",
       "      <th></th>\n",
       "      <th></th>\n",
       "      <th></th>\n",
       "    </tr>\n",
       "  </thead>\n",
       "  <tbody>\n",
       "    <tr>\n",
       "      <th>1</th>\n",
       "      <td>0</td>\n",
       "      <td>0</td>\n",
       "      <td>1</td>\n",
       "      <td>1</td>\n",
       "      <td>1</td>\n",
       "      <td>0</td>\n",
       "      <td>1</td>\n",
       "      <td>1</td>\n",
       "      <td>0</td>\n",
       "      <td>0</td>\n",
       "      <td>0</td>\n",
       "      <td>1</td>\n",
       "      <td>1</td>\n",
       "      <td>0</td>\n",
       "      <td>1</td>\n",
       "    </tr>\n",
       "    <tr>\n",
       "      <th>2</th>\n",
       "      <td>1</td>\n",
       "      <td>1</td>\n",
       "      <td>0</td>\n",
       "      <td>1</td>\n",
       "      <td>1</td>\n",
       "      <td>1</td>\n",
       "      <td>1</td>\n",
       "      <td>0</td>\n",
       "      <td>0</td>\n",
       "      <td>0</td>\n",
       "      <td>1</td>\n",
       "      <td>1</td>\n",
       "      <td>1</td>\n",
       "      <td>0</td>\n",
       "      <td>1</td>\n",
       "    </tr>\n",
       "    <tr>\n",
       "      <th>3</th>\n",
       "      <td>0</td>\n",
       "      <td>1</td>\n",
       "      <td>1</td>\n",
       "      <td>0</td>\n",
       "      <td>1</td>\n",
       "      <td>1</td>\n",
       "      <td>0</td>\n",
       "      <td>0</td>\n",
       "      <td>0</td>\n",
       "      <td>0</td>\n",
       "      <td>0</td>\n",
       "      <td>1</td>\n",
       "      <td>1</td>\n",
       "      <td>1</td>\n",
       "      <td>0</td>\n",
       "    </tr>\n",
       "    <tr>\n",
       "      <th>4</th>\n",
       "      <td>0</td>\n",
       "      <td>1</td>\n",
       "      <td>0</td>\n",
       "      <td>0</td>\n",
       "      <td>1</td>\n",
       "      <td>0</td>\n",
       "      <td>1</td>\n",
       "      <td>0</td>\n",
       "      <td>0</td>\n",
       "      <td>0</td>\n",
       "      <td>1</td>\n",
       "      <td>0</td>\n",
       "      <td>1</td>\n",
       "      <td>1</td>\n",
       "      <td>0</td>\n",
       "    </tr>\n",
       "    <tr>\n",
       "      <th>5</th>\n",
       "      <td>1</td>\n",
       "      <td>0</td>\n",
       "      <td>1</td>\n",
       "      <td>0</td>\n",
       "      <td>0</td>\n",
       "      <td>0</td>\n",
       "      <td>0</td>\n",
       "      <td>0</td>\n",
       "      <td>0</td>\n",
       "      <td>1</td>\n",
       "      <td>1</td>\n",
       "      <td>0</td>\n",
       "      <td>0</td>\n",
       "      <td>0</td>\n",
       "      <td>1</td>\n",
       "    </tr>\n",
       "  </tbody>\n",
       "</table>\n",
       "</div>"
      ],
      "text/plain": [
       "           churn  techie  port_modem  tablet  phone  multiple_lines  \\\n",
       "CaseOrder                                                             \n",
       "1              0       0           1       1      1               0   \n",
       "2              1       1           0       1      1               1   \n",
       "3              0       1           1       0      1               1   \n",
       "4              0       1           0       0      1               0   \n",
       "5              1       0           1       0      0               0   \n",
       "\n",
       "           online_security  online_backup  device_protection  tech_support  \\\n",
       "CaseOrder                                                                    \n",
       "1                        1              1                  0             0   \n",
       "2                        1              0                  0             0   \n",
       "3                        0              0                  0             0   \n",
       "4                        1              0                  0             0   \n",
       "5                        0              0                  0             1   \n",
       "\n",
       "           streaming_tv  streaming_movies  paperless_billing  \\\n",
       "CaseOrder                                                      \n",
       "1                     0                 1                  1   \n",
       "2                     1                 1                  1   \n",
       "3                     0                 1                  1   \n",
       "4                     1                 0                  1   \n",
       "5                     1                 0                  0   \n",
       "\n",
       "           internet_service_DSL  internet_service_Fiber Optic  \n",
       "CaseOrder                                                      \n",
       "1                             0                             1  \n",
       "2                             0                             1  \n",
       "3                             1                             0  \n",
       "4                             1                             0  \n",
       "5                             0                             1  "
      ]
     },
     "execution_count": 20,
     "metadata": {},
     "output_type": "execute_result"
    }
   ],
   "source": [
    "df.head()"
   ]
  },
  {
   "cell_type": "code",
   "execution_count": 21,
   "id": "718e0533",
   "metadata": {},
   "outputs": [
    {
     "data": {
      "text/html": [
       "<div>\n",
       "<style scoped>\n",
       "    .dataframe tbody tr th:only-of-type {\n",
       "        vertical-align: middle;\n",
       "    }\n",
       "\n",
       "    .dataframe tbody tr th {\n",
       "        vertical-align: top;\n",
       "    }\n",
       "\n",
       "    .dataframe thead th {\n",
       "        text-align: right;\n",
       "    }\n",
       "</style>\n",
       "<table border=\"1\" class=\"dataframe\">\n",
       "  <thead>\n",
       "    <tr style=\"text-align: right;\">\n",
       "      <th></th>\n",
       "      <th>churn</th>\n",
       "      <th>techie</th>\n",
       "      <th>port_modem</th>\n",
       "      <th>tablet</th>\n",
       "      <th>phone</th>\n",
       "      <th>multiple_lines</th>\n",
       "      <th>online_security</th>\n",
       "      <th>online_backup</th>\n",
       "      <th>device_protection</th>\n",
       "      <th>tech_support</th>\n",
       "      <th>streaming_tv</th>\n",
       "      <th>streaming_movies</th>\n",
       "      <th>paperless_billing</th>\n",
       "      <th>internet_service_DSL</th>\n",
       "      <th>internet_service_Fiber Optic</th>\n",
       "    </tr>\n",
       "  </thead>\n",
       "  <tbody>\n",
       "    <tr>\n",
       "      <th>churn</th>\n",
       "      <td>1.000000</td>\n",
       "      <td>0.066722</td>\n",
       "      <td>0.008157</td>\n",
       "      <td>0.002779</td>\n",
       "      <td>0.026297</td>\n",
       "      <td>0.131771</td>\n",
       "      <td>0.013540</td>\n",
       "      <td>0.050508</td>\n",
       "      <td>0.056489</td>\n",
       "      <td>0.018838</td>\n",
       "      <td>0.230151</td>\n",
       "      <td>0.289262</td>\n",
       "      <td>0.007030</td>\n",
       "      <td>0.093487</td>\n",
       "      <td>0.058472</td>\n",
       "    </tr>\n",
       "    <tr>\n",
       "      <th>techie</th>\n",
       "      <td>0.066722</td>\n",
       "      <td>1.000000</td>\n",
       "      <td>0.014256</td>\n",
       "      <td>0.010992</td>\n",
       "      <td>0.003081</td>\n",
       "      <td>0.004661</td>\n",
       "      <td>0.015300</td>\n",
       "      <td>0.004540</td>\n",
       "      <td>0.021346</td>\n",
       "      <td>0.007391</td>\n",
       "      <td>0.003436</td>\n",
       "      <td>0.004298</td>\n",
       "      <td>0.001311</td>\n",
       "      <td>0.002565</td>\n",
       "      <td>0.002100</td>\n",
       "    </tr>\n",
       "    <tr>\n",
       "      <th>port_modem</th>\n",
       "      <td>0.008157</td>\n",
       "      <td>0.014256</td>\n",
       "      <td>1.000000</td>\n",
       "      <td>0.000940</td>\n",
       "      <td>0.002072</td>\n",
       "      <td>0.003014</td>\n",
       "      <td>0.003074</td>\n",
       "      <td>0.002092</td>\n",
       "      <td>0.004110</td>\n",
       "      <td>0.006304</td>\n",
       "      <td>0.000272</td>\n",
       "      <td>0.005674</td>\n",
       "      <td>0.004327</td>\n",
       "      <td>0.003371</td>\n",
       "      <td>0.003294</td>\n",
       "    </tr>\n",
       "    <tr>\n",
       "      <th>tablet</th>\n",
       "      <td>0.002779</td>\n",
       "      <td>0.010992</td>\n",
       "      <td>0.000940</td>\n",
       "      <td>1.000000</td>\n",
       "      <td>0.024825</td>\n",
       "      <td>0.019828</td>\n",
       "      <td>0.008849</td>\n",
       "      <td>0.003400</td>\n",
       "      <td>0.005657</td>\n",
       "      <td>0.010658</td>\n",
       "      <td>0.018233</td>\n",
       "      <td>0.020710</td>\n",
       "      <td>0.018502</td>\n",
       "      <td>0.001018</td>\n",
       "      <td>0.005469</td>\n",
       "    </tr>\n",
       "    <tr>\n",
       "      <th>phone</th>\n",
       "      <td>0.026297</td>\n",
       "      <td>0.003081</td>\n",
       "      <td>0.002072</td>\n",
       "      <td>0.024825</td>\n",
       "      <td>1.000000</td>\n",
       "      <td>0.003398</td>\n",
       "      <td>0.001177</td>\n",
       "      <td>0.003172</td>\n",
       "      <td>0.030339</td>\n",
       "      <td>0.005060</td>\n",
       "      <td>0.012464</td>\n",
       "      <td>0.002588</td>\n",
       "      <td>0.009228</td>\n",
       "      <td>0.000071</td>\n",
       "      <td>0.008126</td>\n",
       "    </tr>\n",
       "    <tr>\n",
       "      <th>multiple_lines</th>\n",
       "      <td>0.131771</td>\n",
       "      <td>0.004661</td>\n",
       "      <td>0.003014</td>\n",
       "      <td>0.019828</td>\n",
       "      <td>0.003398</td>\n",
       "      <td>1.000000</td>\n",
       "      <td>0.002436</td>\n",
       "      <td>0.002566</td>\n",
       "      <td>0.003207</td>\n",
       "      <td>0.010360</td>\n",
       "      <td>0.003097</td>\n",
       "      <td>0.004691</td>\n",
       "      <td>0.004657</td>\n",
       "      <td>0.010225</td>\n",
       "      <td>0.009210</td>\n",
       "    </tr>\n",
       "    <tr>\n",
       "      <th>online_security</th>\n",
       "      <td>0.013540</td>\n",
       "      <td>0.015300</td>\n",
       "      <td>0.003074</td>\n",
       "      <td>0.008849</td>\n",
       "      <td>0.001177</td>\n",
       "      <td>0.002436</td>\n",
       "      <td>1.000000</td>\n",
       "      <td>0.010338</td>\n",
       "      <td>0.012852</td>\n",
       "      <td>0.010774</td>\n",
       "      <td>0.001415</td>\n",
       "      <td>0.010575</td>\n",
       "      <td>0.001019</td>\n",
       "      <td>0.000715</td>\n",
       "      <td>0.014582</td>\n",
       "    </tr>\n",
       "    <tr>\n",
       "      <th>online_backup</th>\n",
       "      <td>0.050508</td>\n",
       "      <td>0.004540</td>\n",
       "      <td>0.002092</td>\n",
       "      <td>0.003400</td>\n",
       "      <td>0.003172</td>\n",
       "      <td>0.002566</td>\n",
       "      <td>0.010338</td>\n",
       "      <td>1.000000</td>\n",
       "      <td>0.009991</td>\n",
       "      <td>0.002802</td>\n",
       "      <td>0.008043</td>\n",
       "      <td>0.001434</td>\n",
       "      <td>0.010034</td>\n",
       "      <td>0.000181</td>\n",
       "      <td>0.001925</td>\n",
       "    </tr>\n",
       "    <tr>\n",
       "      <th>device_protection</th>\n",
       "      <td>0.056489</td>\n",
       "      <td>0.021346</td>\n",
       "      <td>0.004110</td>\n",
       "      <td>0.005657</td>\n",
       "      <td>0.030339</td>\n",
       "      <td>0.003207</td>\n",
       "      <td>0.012852</td>\n",
       "      <td>0.009991</td>\n",
       "      <td>1.000000</td>\n",
       "      <td>0.004475</td>\n",
       "      <td>0.002878</td>\n",
       "      <td>0.019450</td>\n",
       "      <td>0.013166</td>\n",
       "      <td>0.009688</td>\n",
       "      <td>0.006759</td>\n",
       "    </tr>\n",
       "    <tr>\n",
       "      <th>tech_support</th>\n",
       "      <td>0.018838</td>\n",
       "      <td>0.007391</td>\n",
       "      <td>0.006304</td>\n",
       "      <td>0.010658</td>\n",
       "      <td>0.005060</td>\n",
       "      <td>0.010360</td>\n",
       "      <td>0.010774</td>\n",
       "      <td>0.002802</td>\n",
       "      <td>0.004475</td>\n",
       "      <td>1.000000</td>\n",
       "      <td>0.003047</td>\n",
       "      <td>0.013533</td>\n",
       "      <td>0.000944</td>\n",
       "      <td>0.023172</td>\n",
       "      <td>0.026211</td>\n",
       "    </tr>\n",
       "    <tr>\n",
       "      <th>streaming_tv</th>\n",
       "      <td>0.230151</td>\n",
       "      <td>0.003436</td>\n",
       "      <td>0.000272</td>\n",
       "      <td>0.018233</td>\n",
       "      <td>0.012464</td>\n",
       "      <td>0.003097</td>\n",
       "      <td>0.001415</td>\n",
       "      <td>0.008043</td>\n",
       "      <td>0.002878</td>\n",
       "      <td>0.003047</td>\n",
       "      <td>1.000000</td>\n",
       "      <td>0.010516</td>\n",
       "      <td>0.016353</td>\n",
       "      <td>0.002979</td>\n",
       "      <td>0.005118</td>\n",
       "    </tr>\n",
       "    <tr>\n",
       "      <th>streaming_movies</th>\n",
       "      <td>0.289262</td>\n",
       "      <td>0.004298</td>\n",
       "      <td>0.005674</td>\n",
       "      <td>0.020710</td>\n",
       "      <td>0.002588</td>\n",
       "      <td>0.004691</td>\n",
       "      <td>0.010575</td>\n",
       "      <td>0.001434</td>\n",
       "      <td>0.019450</td>\n",
       "      <td>0.013533</td>\n",
       "      <td>0.010516</td>\n",
       "      <td>1.000000</td>\n",
       "      <td>0.000692</td>\n",
       "      <td>0.000249</td>\n",
       "      <td>0.002211</td>\n",
       "    </tr>\n",
       "    <tr>\n",
       "      <th>paperless_billing</th>\n",
       "      <td>0.007030</td>\n",
       "      <td>0.001311</td>\n",
       "      <td>0.004327</td>\n",
       "      <td>0.018502</td>\n",
       "      <td>0.009228</td>\n",
       "      <td>0.004657</td>\n",
       "      <td>0.001019</td>\n",
       "      <td>0.010034</td>\n",
       "      <td>0.013166</td>\n",
       "      <td>0.000944</td>\n",
       "      <td>0.016353</td>\n",
       "      <td>0.000692</td>\n",
       "      <td>1.000000</td>\n",
       "      <td>0.017909</td>\n",
       "      <td>0.017686</td>\n",
       "    </tr>\n",
       "    <tr>\n",
       "      <th>internet_service_DSL</th>\n",
       "      <td>0.093487</td>\n",
       "      <td>0.002565</td>\n",
       "      <td>0.003371</td>\n",
       "      <td>0.001018</td>\n",
       "      <td>0.000071</td>\n",
       "      <td>0.010225</td>\n",
       "      <td>0.000715</td>\n",
       "      <td>0.000181</td>\n",
       "      <td>0.009688</td>\n",
       "      <td>0.023172</td>\n",
       "      <td>0.002979</td>\n",
       "      <td>0.000249</td>\n",
       "      <td>0.017909</td>\n",
       "      <td>1.000000</td>\n",
       "      <td>0.646211</td>\n",
       "    </tr>\n",
       "    <tr>\n",
       "      <th>internet_service_Fiber Optic</th>\n",
       "      <td>0.058472</td>\n",
       "      <td>0.002100</td>\n",
       "      <td>0.003294</td>\n",
       "      <td>0.005469</td>\n",
       "      <td>0.008126</td>\n",
       "      <td>0.009210</td>\n",
       "      <td>0.014582</td>\n",
       "      <td>0.001925</td>\n",
       "      <td>0.006759</td>\n",
       "      <td>0.026211</td>\n",
       "      <td>0.005118</td>\n",
       "      <td>0.002211</td>\n",
       "      <td>0.017686</td>\n",
       "      <td>0.646211</td>\n",
       "      <td>1.000000</td>\n",
       "    </tr>\n",
       "  </tbody>\n",
       "</table>\n",
       "</div>"
      ],
      "text/plain": [
       "                                 churn    techie  port_modem    tablet  \\\n",
       "churn                         1.000000  0.066722    0.008157  0.002779   \n",
       "techie                        0.066722  1.000000    0.014256  0.010992   \n",
       "port_modem                    0.008157  0.014256    1.000000  0.000940   \n",
       "tablet                        0.002779  0.010992    0.000940  1.000000   \n",
       "phone                         0.026297  0.003081    0.002072  0.024825   \n",
       "multiple_lines                0.131771  0.004661    0.003014  0.019828   \n",
       "online_security               0.013540  0.015300    0.003074  0.008849   \n",
       "online_backup                 0.050508  0.004540    0.002092  0.003400   \n",
       "device_protection             0.056489  0.021346    0.004110  0.005657   \n",
       "tech_support                  0.018838  0.007391    0.006304  0.010658   \n",
       "streaming_tv                  0.230151  0.003436    0.000272  0.018233   \n",
       "streaming_movies              0.289262  0.004298    0.005674  0.020710   \n",
       "paperless_billing             0.007030  0.001311    0.004327  0.018502   \n",
       "internet_service_DSL          0.093487  0.002565    0.003371  0.001018   \n",
       "internet_service_Fiber Optic  0.058472  0.002100    0.003294  0.005469   \n",
       "\n",
       "                                 phone  multiple_lines  online_security  \\\n",
       "churn                         0.026297        0.131771         0.013540   \n",
       "techie                        0.003081        0.004661         0.015300   \n",
       "port_modem                    0.002072        0.003014         0.003074   \n",
       "tablet                        0.024825        0.019828         0.008849   \n",
       "phone                         1.000000        0.003398         0.001177   \n",
       "multiple_lines                0.003398        1.000000         0.002436   \n",
       "online_security               0.001177        0.002436         1.000000   \n",
       "online_backup                 0.003172        0.002566         0.010338   \n",
       "device_protection             0.030339        0.003207         0.012852   \n",
       "tech_support                  0.005060        0.010360         0.010774   \n",
       "streaming_tv                  0.012464        0.003097         0.001415   \n",
       "streaming_movies              0.002588        0.004691         0.010575   \n",
       "paperless_billing             0.009228        0.004657         0.001019   \n",
       "internet_service_DSL          0.000071        0.010225         0.000715   \n",
       "internet_service_Fiber Optic  0.008126        0.009210         0.014582   \n",
       "\n",
       "                              online_backup  device_protection  tech_support  \\\n",
       "churn                              0.050508           0.056489      0.018838   \n",
       "techie                             0.004540           0.021346      0.007391   \n",
       "port_modem                         0.002092           0.004110      0.006304   \n",
       "tablet                             0.003400           0.005657      0.010658   \n",
       "phone                              0.003172           0.030339      0.005060   \n",
       "multiple_lines                     0.002566           0.003207      0.010360   \n",
       "online_security                    0.010338           0.012852      0.010774   \n",
       "online_backup                      1.000000           0.009991      0.002802   \n",
       "device_protection                  0.009991           1.000000      0.004475   \n",
       "tech_support                       0.002802           0.004475      1.000000   \n",
       "streaming_tv                       0.008043           0.002878      0.003047   \n",
       "streaming_movies                   0.001434           0.019450      0.013533   \n",
       "paperless_billing                  0.010034           0.013166      0.000944   \n",
       "internet_service_DSL               0.000181           0.009688      0.023172   \n",
       "internet_service_Fiber Optic       0.001925           0.006759      0.026211   \n",
       "\n",
       "                              streaming_tv  streaming_movies  \\\n",
       "churn                             0.230151          0.289262   \n",
       "techie                            0.003436          0.004298   \n",
       "port_modem                        0.000272          0.005674   \n",
       "tablet                            0.018233          0.020710   \n",
       "phone                             0.012464          0.002588   \n",
       "multiple_lines                    0.003097          0.004691   \n",
       "online_security                   0.001415          0.010575   \n",
       "online_backup                     0.008043          0.001434   \n",
       "device_protection                 0.002878          0.019450   \n",
       "tech_support                      0.003047          0.013533   \n",
       "streaming_tv                      1.000000          0.010516   \n",
       "streaming_movies                  0.010516          1.000000   \n",
       "paperless_billing                 0.016353          0.000692   \n",
       "internet_service_DSL              0.002979          0.000249   \n",
       "internet_service_Fiber Optic      0.005118          0.002211   \n",
       "\n",
       "                              paperless_billing  internet_service_DSL  \\\n",
       "churn                                  0.007030              0.093487   \n",
       "techie                                 0.001311              0.002565   \n",
       "port_modem                             0.004327              0.003371   \n",
       "tablet                                 0.018502              0.001018   \n",
       "phone                                  0.009228              0.000071   \n",
       "multiple_lines                         0.004657              0.010225   \n",
       "online_security                        0.001019              0.000715   \n",
       "online_backup                          0.010034              0.000181   \n",
       "device_protection                      0.013166              0.009688   \n",
       "tech_support                           0.000944              0.023172   \n",
       "streaming_tv                           0.016353              0.002979   \n",
       "streaming_movies                       0.000692              0.000249   \n",
       "paperless_billing                      1.000000              0.017909   \n",
       "internet_service_DSL                   0.017909              1.000000   \n",
       "internet_service_Fiber Optic           0.017686              0.646211   \n",
       "\n",
       "                              internet_service_Fiber Optic  \n",
       "churn                                             0.058472  \n",
       "techie                                            0.002100  \n",
       "port_modem                                        0.003294  \n",
       "tablet                                            0.005469  \n",
       "phone                                             0.008126  \n",
       "multiple_lines                                    0.009210  \n",
       "online_security                                   0.014582  \n",
       "online_backup                                     0.001925  \n",
       "device_protection                                 0.006759  \n",
       "tech_support                                      0.026211  \n",
       "streaming_tv                                      0.005118  \n",
       "streaming_movies                                  0.002211  \n",
       "paperless_billing                                 0.017686  \n",
       "internet_service_DSL                              0.646211  \n",
       "internet_service_Fiber Optic                      1.000000  "
      ]
     },
     "execution_count": 21,
     "metadata": {},
     "output_type": "execute_result"
    }
   ],
   "source": [
    "df.corr().abs()"
   ]
  },
  {
   "cell_type": "markdown",
   "id": "c4f1afff",
   "metadata": {},
   "source": [
    "### Provide copy of cleaned dataset\n",
    "\n",
    "---"
   ]
  },
  {
   "cell_type": "code",
   "execution_count": 22,
   "id": "a94349e6",
   "metadata": {},
   "outputs": [],
   "source": [
    "# Save the entire dataset (C4)\n",
    "df.to_csv('d209_cleaned.csv', index=False)"
   ]
  },
  {
   "cell_type": "markdown",
   "id": "ee9425fd",
   "metadata": {},
   "source": [
    "## Part IV\n",
    "\n",
    "---"
   ]
  },
  {
   "cell_type": "code",
   "execution_count": 23,
   "id": "646ca0e6",
   "metadata": {},
   "outputs": [],
   "source": [
    "# Splitting data into train and test data (D1)\n",
    "X = df[['techie', 'port_modem', 'tablet', 'phone', 'multiple_lines',\n",
    "       'online_security', 'online_backup', 'device_protection', 'tech_support',\n",
    "       'streaming_tv', 'streaming_movies', 'paperless_billing',\n",
    "       'internet_service_DSL', 'internet_service_Fiber Optic']].assign(const=1)\n",
    "\n",
    "y = df['churn']\n",
    "\n",
    "X_train, X_test, y_train, y_test = train_test_split(X, y, test_size=0.2, random_state=1, stratify=y)"
   ]
  },
  {
   "cell_type": "markdown",
   "id": "f318aec1",
   "metadata": {},
   "source": [
    "(D2)\n",
    "\n",
    "I am using the 'test_train_split' function in the scikit learn library in order to split the testing and training data. I split the dataset into both training and testing data using a 70/30 split. The 30% will be the training data that will be used to help the model learn. I also have set stratify to y in order to ensure that the split data has some similarity between the train and test data.\n",
    "\n",
    "---"
   ]
  },
  {
   "cell_type": "code",
   "execution_count": 24,
   "id": "1c8e0e95",
   "metadata": {},
   "outputs": [],
   "source": [
    "#Saving four datasets to CSV (D1)\n",
    "X_train.to_csv('d209_X_train.csv')\n",
    "X_test.to_csv('d209_X_test.csv')\n",
    "y_train.to_csv('d209_y_train.csv')\n",
    "y_test.to_csv('d209_y_test.csv')"
   ]
  },
  {
   "cell_type": "code",
   "execution_count": 25,
   "id": "1886279a",
   "metadata": {},
   "outputs": [
    {
     "data": {
      "text/html": [
       "<style>#sk-container-id-1 {color: black;}#sk-container-id-1 pre{padding: 0;}#sk-container-id-1 div.sk-toggleable {background-color: white;}#sk-container-id-1 label.sk-toggleable__label {cursor: pointer;display: block;width: 100%;margin-bottom: 0;padding: 0.3em;box-sizing: border-box;text-align: center;}#sk-container-id-1 label.sk-toggleable__label-arrow:before {content: \"▸\";float: left;margin-right: 0.25em;color: #696969;}#sk-container-id-1 label.sk-toggleable__label-arrow:hover:before {color: black;}#sk-container-id-1 div.sk-estimator:hover label.sk-toggleable__label-arrow:before {color: black;}#sk-container-id-1 div.sk-toggleable__content {max-height: 0;max-width: 0;overflow: hidden;text-align: left;background-color: #f0f8ff;}#sk-container-id-1 div.sk-toggleable__content pre {margin: 0.2em;color: black;border-radius: 0.25em;background-color: #f0f8ff;}#sk-container-id-1 input.sk-toggleable__control:checked~div.sk-toggleable__content {max-height: 200px;max-width: 100%;overflow: auto;}#sk-container-id-1 input.sk-toggleable__control:checked~label.sk-toggleable__label-arrow:before {content: \"▾\";}#sk-container-id-1 div.sk-estimator input.sk-toggleable__control:checked~label.sk-toggleable__label {background-color: #d4ebff;}#sk-container-id-1 div.sk-label input.sk-toggleable__control:checked~label.sk-toggleable__label {background-color: #d4ebff;}#sk-container-id-1 input.sk-hidden--visually {border: 0;clip: rect(1px 1px 1px 1px);clip: rect(1px, 1px, 1px, 1px);height: 1px;margin: -1px;overflow: hidden;padding: 0;position: absolute;width: 1px;}#sk-container-id-1 div.sk-estimator {font-family: monospace;background-color: #f0f8ff;border: 1px dotted black;border-radius: 0.25em;box-sizing: border-box;margin-bottom: 0.5em;}#sk-container-id-1 div.sk-estimator:hover {background-color: #d4ebff;}#sk-container-id-1 div.sk-parallel-item::after {content: \"\";width: 100%;border-bottom: 1px solid gray;flex-grow: 1;}#sk-container-id-1 div.sk-label:hover label.sk-toggleable__label {background-color: #d4ebff;}#sk-container-id-1 div.sk-serial::before {content: \"\";position: absolute;border-left: 1px solid gray;box-sizing: border-box;top: 0;bottom: 0;left: 50%;z-index: 0;}#sk-container-id-1 div.sk-serial {display: flex;flex-direction: column;align-items: center;background-color: white;padding-right: 0.2em;padding-left: 0.2em;position: relative;}#sk-container-id-1 div.sk-item {position: relative;z-index: 1;}#sk-container-id-1 div.sk-parallel {display: flex;align-items: stretch;justify-content: center;background-color: white;position: relative;}#sk-container-id-1 div.sk-item::before, #sk-container-id-1 div.sk-parallel-item::before {content: \"\";position: absolute;border-left: 1px solid gray;box-sizing: border-box;top: 0;bottom: 0;left: 50%;z-index: -1;}#sk-container-id-1 div.sk-parallel-item {display: flex;flex-direction: column;z-index: 1;position: relative;background-color: white;}#sk-container-id-1 div.sk-parallel-item:first-child::after {align-self: flex-end;width: 50%;}#sk-container-id-1 div.sk-parallel-item:last-child::after {align-self: flex-start;width: 50%;}#sk-container-id-1 div.sk-parallel-item:only-child::after {width: 0;}#sk-container-id-1 div.sk-dashed-wrapped {border: 1px dashed gray;margin: 0 0.4em 0.5em 0.4em;box-sizing: border-box;padding-bottom: 0.4em;background-color: white;}#sk-container-id-1 div.sk-label label {font-family: monospace;font-weight: bold;display: inline-block;line-height: 1.2em;}#sk-container-id-1 div.sk-label-container {text-align: center;}#sk-container-id-1 div.sk-container {/* jupyter's `normalize.less` sets `[hidden] { display: none; }` but bootstrap.min.css set `[hidden] { display: none !important; }` so we also need the `!important` here to be able to override the default hidden behavior on the sphinx rendered scikit-learn.org. See: https://github.com/scikit-learn/scikit-learn/issues/21755 */display: inline-block !important;position: relative;}#sk-container-id-1 div.sk-text-repr-fallback {display: none;}</style><div id=\"sk-container-id-1\" class=\"sk-top-container\"><div class=\"sk-text-repr-fallback\"><pre>KNeighborsClassifier(n_neighbors=3)</pre><b>In a Jupyter environment, please rerun this cell to show the HTML representation or trust the notebook. <br />On GitHub, the HTML representation is unable to render, please try loading this page with nbviewer.org.</b></div><div class=\"sk-container\" hidden><div class=\"sk-item\"><div class=\"sk-estimator sk-toggleable\"><input class=\"sk-toggleable__control sk-hidden--visually\" id=\"sk-estimator-id-1\" type=\"checkbox\" checked><label for=\"sk-estimator-id-1\" class=\"sk-toggleable__label sk-toggleable__label-arrow\">KNeighborsClassifier</label><div class=\"sk-toggleable__content\"><pre>KNeighborsClassifier(n_neighbors=3)</pre></div></div></div></div></div>"
      ],
      "text/plain": [
       "KNeighborsClassifier(n_neighbors=3)"
      ]
     },
     "execution_count": 25,
     "metadata": {},
     "output_type": "execute_result"
    }
   ],
   "source": [
    "#Creating KNN Classifier\n",
    "KNN = KNeighborsClassifier(n_neighbors=3)\n",
    "\n",
    "#Fit classifier to the data\n",
    "KNN.fit(X_train, y_train)"
   ]
  },
  {
   "cell_type": "markdown",
   "id": "8f22d9bd",
   "metadata": {},
   "source": [
    "(D2)\n",
    "\n",
    "To build the inital model I set in neighbors to 3. The default for this function is 5, but esentially the way it works is if 3 out of the 4 nearest points to a data point are no churn then the new data point will also be no churn. To further improve the final model I will use GridSearchCV in order to find the best n_neighbor.\n",
    "\n",
    "I am also using the fit function in order to pass in the training data in order to fit the model.\n",
    "\n",
    "---"
   ]
  },
  {
   "cell_type": "code",
   "execution_count": 26,
   "id": "d64d5c27",
   "metadata": {},
   "outputs": [
    {
     "data": {
      "text/plain": [
       "array([0, 0, 1, 0, 0], dtype=int64)"
      ]
     },
     "execution_count": 26,
     "metadata": {},
     "output_type": "execute_result"
    }
   ],
   "source": [
    "# first 5 model predictions on the test data\n",
    "KNN.predict(X_test)[0:5]"
   ]
  },
  {
   "cell_type": "markdown",
   "id": "3d3a2170",
   "metadata": {},
   "source": [
    "(D2)\n",
    "\n",
    "Based on the test data the third customer in our set is a customer that is a yes churn. \n",
    "\n",
    "---"
   ]
  },
  {
   "cell_type": "code",
   "execution_count": 27,
   "id": "63565536",
   "metadata": {},
   "outputs": [
    {
     "data": {
      "text/plain": [
       "0.72"
      ]
     },
     "execution_count": 27,
     "metadata": {},
     "output_type": "execute_result"
    }
   ],
   "source": [
    "#check accuracy of model on the test data\n",
    "KNN.score(X_test, y_test)"
   ]
  },
  {
   "cell_type": "markdown",
   "id": "208c7fe7",
   "metadata": {},
   "source": [
    "(D2)\n",
    "\n",
    "The inital model is accurate around 72% of the time, I will now try to hypertune the model using the GridSearchCV function in order to see if I am able to improve the accuracy by finding the optimal number for n_neighbors. The logistic regression model I created with the same variables was accurate around 77% of the time, so I know that this can be improved.\n",
    "\n",
    "---"
   ]
  },
  {
   "cell_type": "code",
   "execution_count": 28,
   "id": "a88437b4",
   "metadata": {},
   "outputs": [
    {
     "data": {
      "text/plain": [
       "{'n_neighbors': 20}"
      ]
     },
     "execution_count": 28,
     "metadata": {},
     "output_type": "execute_result"
    }
   ],
   "source": [
    "from sklearn.model_selection import GridSearchCV\n",
    "\n",
    "# Determine what is the best number of neighbors to use\n",
    "param_grid = {'n_neighbors' : np.arange(1, 25)}\n",
    "\n",
    "# Instantiate the KNeighborsClassifier object\n",
    "knn = KNeighborsClassifier()\n",
    "\n",
    "# Instantiate the GridSearchCV object, searching across the provided parameter grid and 5 fold cross validation\n",
    "knn_cv = GridSearchCV(knn, param_grid, cv=5)\n",
    "\n",
    "# Fit to training data\n",
    "knn_cv.fit(X_train, y_train)\n",
    "\n",
    "# Find best parameter from GridSearchCV\n",
    "knn_cv.best_params_"
   ]
  },
  {
   "cell_type": "markdown",
   "id": "bbd79fc8",
   "metadata": {},
   "source": [
    "(D2)\n",
    "\n",
    "I initally started with a range 1-50 and after running the GridSearch 20 seemed to be the optimal number for n_neighbors. Based on this I will now use the best_score function in order to see what the models mean accuracy of the scores. \n",
    "\n",
    "---"
   ]
  },
  {
   "cell_type": "code",
   "execution_count": 29,
   "id": "513e8dd1",
   "metadata": {},
   "outputs": [
    {
     "data": {
      "text/plain": [
       "0.756375"
      ]
     },
     "execution_count": 29,
     "metadata": {},
     "output_type": "execute_result"
    }
   ],
   "source": [
    "#check mean score for the top performing value of n_neighbors\n",
    "knn_cv.best_score_"
   ]
  },
  {
   "cell_type": "markdown",
   "id": "edec037c",
   "metadata": {},
   "source": [
    "The accuracy of the model has increased by 2% using the optimal number of n_neighbors based on the GridSearch.\n",
    "\n",
    "---"
   ]
  },
  {
   "cell_type": "code",
   "execution_count": 32,
   "id": "53f0383d",
   "metadata": {},
   "outputs": [],
   "source": [
    "y_pred = knn.predict(X_test)"
   ]
  },
  {
   "cell_type": "code",
   "execution_count": 33,
   "id": "c9c4f3eb",
   "metadata": {},
   "outputs": [
    {
     "name": "stdout",
     "output_type": "stream",
     "text": [
      "Accuracy of KNN Classifier: 0.7505\n",
      "Confusion Matrix: \n",
      " [[1382   88]\n",
      " [ 411  119]]\n",
      "Classification Report:\n",
      "               precision    recall  f1-score   support\n",
      "\n",
      "           0       0.77      0.94      0.85      1470\n",
      "           1       0.57      0.22      0.32       530\n",
      "\n",
      "    accuracy                           0.75      2000\n",
      "   macro avg       0.67      0.58      0.59      2000\n",
      "weighted avg       0.72      0.75      0.71      2000\n",
      "\n"
     ]
    }
   ],
   "source": [
    "# Create a KNN classifier with k=20\n",
    "knn = KNeighborsClassifier(n_neighbors=20)\n",
    "\n",
    "# Train the classifier on the training set\n",
    "knn.fit(X_train, y_train)\n",
    "\n",
    "# Make predictions on the test set\n",
    "predictions = knn.predict(X_test)\n",
    "\n",
    "# Calculate accuracy\n",
    "accuracy = accuracy_score(y_test, predictions)\n",
    "print(f\"Accuracy of KNN Classifier: {accuracy}\")\n",
    "\n",
    "#confusion matrix\n",
    "conf_matrix = confusion_matrix(y_test, y_pred)\n",
    "print('Confusion Matrix: \\n', conf_matrix)\n",
    "\n",
    "#classificiation report\n",
    "print('Classification Report:\\n', classification_report(y_test, y_pred))"
   ]
  },
  {
   "cell_type": "markdown",
   "id": "257f910c",
   "metadata": {},
   "source": [
    "### Part V\n",
    "\n",
    "---"
   ]
  },
  {
   "cell_type": "code",
   "execution_count": 34,
   "id": "53ece8eb",
   "metadata": {},
   "outputs": [
    {
     "data": {
      "image/png": "[encoded data removed]",
      "text/plain": [
       "<Figure size 640x480 with 1 Axes>"
      ]
     },
     "metadata": {},
     "output_type": "display_data"
    }
   ],
   "source": [
    "# Generate AUC score for KNN model\n",
    "y_pred_prob = knn.predict_proba(X_test)[:, 1]\n",
    "fpr, tpr, thresholds = roc_curve(y_test, y_pred_prob)\n",
    "plt.plot([0, 1], [0, 1], 'k--')\n",
    "plt.plot(fpr, tpr)\n",
    "plt.xlabel('False Positive Rate')\n",
    "plt.ylabel('True Positive Rate')\n",
    "plt.title('ROC Curve')\n",
    "plt.show()"
   ]
  },
  {
   "cell_type": "code",
   "execution_count": 35,
   "id": "6d37243c",
   "metadata": {},
   "outputs": [
    {
     "name": "stdout",
     "output_type": "stream",
     "text": [
      "AUC: 0.7263951995892697\n"
     ]
    }
   ],
   "source": [
    "print(f\"AUC: {roc_auc_score(y_test, y_pred_prob)}\")"
   ]
  },
  {
   "cell_type": "markdown",
   "id": "479f8c4a",
   "metadata": {},
   "source": [
    "#### (E1) Accuracy and AUC \n",
    "\n",
    "The model is accurate around 75% of the time which is a little worse than what the logisitic model I had created in D208 was at 77%. The data itself is a bit skewed with only 22% of the customer base actually churning. I believe that if we had more cases of churn the model would be able to increase it's accuracy.\n",
    "\n",
    "The AUC score of 0.73 shows that the model has a fairly high chance of being able to predict churn, but I still would not trust this level of accuracy enough in order to implement this in a production environment. For reference an AUC = 1 would be a 100% accurate model meaning it is able to correctly distinguish churn from no churn and an AUC score of <=0.5 would mean that it is not able to distinguish a churn from a no churn and would definitely not be suitable for a production enviornment.\n",
    "\n",
    "---\n",
    "\n",
    "#### (E2) Classification Implications\n",
    "\n",
    "Based on the AUC score of our model being between 0.5 and 1 means that it is better than random guessing but not completely accurate. The model is accurate in predicting churn around 75% of the time which is less than that of the logistic regression model I found it a bit dissapointing based on my hope of being able to tie specific features to the likelihood of customer churn. \n",
    "\n",
    "---\n",
    "\n",
    "#### (E3) Limitations of analysis\n",
    "\n",
    "A potential limitation of this analysis is that I used the default distance metric which was Euclidean distance when performing the classification. Had I chosen another distance metric the results may have been a more suitable choice and increased accuracy. Another limitation as previously discussed in my prior PAs is that we don't have enough domain knowledge in order to determine if a client is a true churn. For example a client may opt to select another provider for streaming_tv or streaming_movies but retain our fiber optic internet service. We would need further detail in order to even consider this model as useful.\n",
    "\n",
    "---\n",
    "\n",
    "#### (E4) Recommended Course of Action\n",
    "\n",
    "My recommendation based on this analysis would be to have a call with internal stakeholders and let them know the results of what the KNN classification and potentially seeing if I could get more domain knowledge to ensure I am understanding what's needed in order to create a useful model. Then making a recommendation that we should potentially look at bundling services that show a high-churn rate. I believe this would be beneficial as we could use certain features as \"loss leaders\" in order to maintain more long-term customers and keeping maintaining them on higher cost products such as phone and internet.\n",
    "\n",
    "---"
   ]
  },
  {
   "cell_type": "markdown",
   "id": "6cfc00f0",
   "metadata": {},
   "source": [
    "## Sources \n",
    "\n",
    "Churn Rate. (n.d.). Corporate Finance Institute. https://corporatefinanceinstitute.com/resources/valuation/churn-rate/\n",
    "\n",
    "Shafi, A. (2023, February). KNN Classification Tutorial using Sklearn Python. Www.datacamp.com. https://www.datacamp.com/tutorial/k-nearest-neighbor-classification-scikit-learn\n",
    "\n",
    "Kumar, V. (2021, August 19). KNN Classifier in Sklearn using GridSearchCV with Example. MLK - Machine Learning Knowledge. https://machinelearningknowledge.ai/knn-classifier-in-sklearn-using-gridsearchcv-with-example/\n",
    "\n"
   ]
  },
  {
   "cell_type": "markdown",
   "id": "d23b280e",
   "metadata": {},
   "source": [
    "### Panopto Recording\n",
    "\n",
    "https://wgu.hosted.panopto.com/Panopto/Pages/Viewer.aspx?id=7b0a43a7-af85-41e4-bf8d-b0d0017df663#\n",
    "\n",
    "---"
   ]
  },
  {
   "cell_type": "code",
   "execution_count": null,
   "id": "f8d037ed",
   "metadata": {},
   "outputs": [],
   "source": []
  }
 ],
 "metadata": {
  "kernelspec": {
   "display_name": "Python 3 (ipykernel)",
   "language": "python",
   "name": "python3"
  },
  "language_info": {
   "codemirror_mode": {
    "name": "ipython",
    "version": 3
   },
   "file_extension": ".py",
   "mimetype": "text/x-python",
   "name": "python",
   "nbconvert_exporter": "python",
   "pygments_lexer": "ipython3",
   "version": "3.11.4"
  }
 },
 "nbformat": 4,
 "nbformat_minor": 5
}
