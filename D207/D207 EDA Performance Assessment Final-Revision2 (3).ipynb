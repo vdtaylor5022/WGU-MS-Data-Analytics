{
 "cells": [
  {
   "cell_type": "markdown",
   "id": "20dd2ca7",
   "metadata": {},
   "source": [
    "# D207 Exploratory Data Analysis PA\n",
    "\n",
    "Vincent Taylor"
   ]
  },
  {
   "cell_type": "markdown",
   "id": "1b4c4bbc",
   "metadata": {},
   "source": [
    "#### (A1) Inital Question\n",
    "\n",
    "- What factors contribute to customer churn?\n",
    "\n",
    "#### (A2)  Organization Benefits \n",
    "- The benefits associated with this analysis are as follows, being able to indentify key aspects that contribute to customer churn will allow for the creation of strategies that can be implemented in order to mitigate the amount of customers choosing to churn. This can lead to a direct cost savings by not having to focuse as heavily on marketing to new customers. Another benefit associated for the company would be the competitve advantage that is created by using data in order to inform insights.\n",
    "\n",
    "#### (A3) Relevant Data\n",
    "- The churn column (Qualitative/Categorical) will provide us the total count of customers who have discontinued their service in the past month.\n",
    "\n",
    "- Timely_response (Quantitative/Continous): Survey data asking customers the importance of the company responding within 24 hours."
   ]
  },
  {
   "cell_type": "markdown",
   "id": "eec3f3a7",
   "metadata": {},
   "source": [
    "#### (B1)"
   ]
  },
  {
   "cell_type": "code",
   "execution_count": 1,
   "id": "8211eee5",
   "metadata": {},
   "outputs": [],
   "source": [
    "import pandas as pd\n",
    "import numpy as np\n",
    "import matplotlib.pyplot as plt\n",
    "from sklearn.decomposition import PCA \n",
    "import seaborn as sns\n",
    "from scipy.stats import chi2_contingency\n",
    "\n",
    "# Disabling warinings\n",
    "import warnings\n",
    "warnings.filterwarnings('ignore')\n",
    "\n",
    "%matplotlib inline"
   ]
  },
  {
   "cell_type": "code",
   "execution_count": 2,
   "id": "0279b89a",
   "metadata": {},
   "outputs": [],
   "source": [
    "# Loading the churn.csv into dataframe\n",
    "df = pd.read_csv('./churn_clean.csv', index_col=0)"
   ]
  },
  {
   "cell_type": "code",
   "execution_count": 3,
   "id": "93ad2132",
   "metadata": {},
   "outputs": [
    {
     "name": "stdout",
     "output_type": "stream",
     "text": [
      "<class 'pandas.core.frame.DataFrame'>\n",
      "Int64Index: 10000 entries, 1 to 10000\n",
      "Data columns (total 49 columns):\n",
      " #   Column                Non-Null Count  Dtype  \n",
      "---  ------                --------------  -----  \n",
      " 0   Customer_id           10000 non-null  object \n",
      " 1   Interaction           10000 non-null  object \n",
      " 2   UID                   10000 non-null  object \n",
      " 3   City                  10000 non-null  object \n",
      " 4   State                 10000 non-null  object \n",
      " 5   County                10000 non-null  object \n",
      " 6   Zip                   10000 non-null  int64  \n",
      " 7   Lat                   10000 non-null  float64\n",
      " 8   Lng                   10000 non-null  float64\n",
      " 9   Population            10000 non-null  int64  \n",
      " 10  Area                  10000 non-null  object \n",
      " 11  TimeZone              10000 non-null  object \n",
      " 12  Job                   10000 non-null  object \n",
      " 13  Children              10000 non-null  int64  \n",
      " 14  Age                   10000 non-null  int64  \n",
      " 15  Income                10000 non-null  float64\n",
      " 16  Marital               10000 non-null  object \n",
      " 17  Gender                10000 non-null  object \n",
      " 18  Churn                 10000 non-null  object \n",
      " 19  Outage_sec_perweek    10000 non-null  float64\n",
      " 20  Email                 10000 non-null  int64  \n",
      " 21  Contacts              10000 non-null  int64  \n",
      " 22  Yearly_equip_failure  10000 non-null  int64  \n",
      " 23  Techie                10000 non-null  object \n",
      " 24  Contract              10000 non-null  object \n",
      " 25  Port_modem            10000 non-null  object \n",
      " 26  Tablet                10000 non-null  object \n",
      " 27  InternetService       10000 non-null  object \n",
      " 28  Phone                 10000 non-null  object \n",
      " 29  Multiple              10000 non-null  object \n",
      " 30  OnlineSecurity        10000 non-null  object \n",
      " 31  OnlineBackup          10000 non-null  object \n",
      " 32  DeviceProtection      10000 non-null  object \n",
      " 33  TechSupport           10000 non-null  object \n",
      " 34  StreamingTV           10000 non-null  object \n",
      " 35  StreamingMovies       10000 non-null  object \n",
      " 36  PaperlessBilling      10000 non-null  object \n",
      " 37  PaymentMethod         10000 non-null  object \n",
      " 38  Tenure                10000 non-null  float64\n",
      " 39  MonthlyCharge         10000 non-null  float64\n",
      " 40  Bandwidth_GB_Year     10000 non-null  float64\n",
      " 41  Item1                 10000 non-null  int64  \n",
      " 42  Item2                 10000 non-null  int64  \n",
      " 43  Item3                 10000 non-null  int64  \n",
      " 44  Item4                 10000 non-null  int64  \n",
      " 45  Item5                 10000 non-null  int64  \n",
      " 46  Item6                 10000 non-null  int64  \n",
      " 47  Item7                 10000 non-null  int64  \n",
      " 48  Item8                 10000 non-null  int64  \n",
      "dtypes: float64(7), int64(15), object(27)\n",
      "memory usage: 3.8+ MB\n",
      "None\n"
     ]
    }
   ],
   "source": [
    "#Checking data types and count of rows per column.\n",
    "print(df.info())"
   ]
  },
  {
   "cell_type": "code",
   "execution_count": 4,
   "id": "2e7391c3",
   "metadata": {},
   "outputs": [],
   "source": [
    "# Cleaning the CSV file\n",
    "\n",
    "#renaming columns to python casing.\n",
    "col_head = {\n",
    "    'Customer_id': 'customer_id',\n",
    "    'Interaction': 'interaction',\n",
    "    'City': 'city',\n",
    "    'State': 'state',\n",
    "    'County': 'county',\n",
    "    'Zip': 'zip',\n",
    "    'Lat': 'lat',\n",
    "    'Lng': 'lng',\n",
    "    'Population': 'population',  \n",
    "    'Area': 'area',  \n",
    "    'Job': 'job',\n",
    "    'Children': 'children',\n",
    "    'Age': 'age', \n",
    "    'Income': 'income',  \n",
    "    'Marital': 'marital_type',\n",
    "    'Gender': 'gender',\n",
    "    'Churn': 'churn',\n",
    "    'Outage_sec_perweek': 'outage_sec_perweek',\n",
    "    'Email': 'email',\n",
    "    'Contacts': 'contacts',\n",
    "    'Yearly_equip_failure': 'yearly_equip_failure',\n",
    "    'Techie': 'techie',\n",
    "    'Contract': 'contract',\n",
    "    'Port_modem': 'port_modem',\n",
    "    'Tablet': 'tablet',\n",
    "    'InternetService': 'internet_service',\n",
    "    'Phone': 'phone',\n",
    "    'Multiple': 'multiple_lines',\n",
    "    'OnlineSecurity': 'online_security',\n",
    "    'OnlineBackup': 'online_backup',\n",
    "    'DeviceProtection': 'device_protection',\n",
    "    'TechSupport': 'tech_support',\n",
    "    'StreamingTV': 'streaming_tv',\n",
    "    'StreamingMovies': 'streaming_movies',\n",
    "    'PaperlessBilling': 'paperless_billing',\n",
    "    'PaymentMethod': 'payment_method',\n",
    "    'Tenure': 'tenure',\n",
    "    'MonthlyCharge': 'monthly_charge',\n",
    "    'Bandwidth_GB_Year': 'bandwidth_gb_year',\n",
    "    'Item1': 'timely_response',\n",
    "    'Item2': 'timely_fixes',\n",
    "    'Item3': 'timely_replacements',\n",
    "    'Item4': 'reliability',\n",
    "    'Item5': 'options',\n",
    "    'Item6': 'respectful_response',\n",
    "    'Item7': 'courteous_exchange',\n",
    "    'Item8': 'active_listening'}\n",
    "df.rename(columns=col_head, inplace=True)\n",
    "\n",
    "#Reexpressing the values of payment method to be more concise.\n",
    "dict_pay = {\"payment_method\": {\n",
    "     \"Credit Card (automatic)\": \"Autopay\",\n",
    "     \"Bank Transfer(automatic)\": \"Autopay\",\n",
    "     \"Electronic Check\": \"eCheck\",\n",
    "     \"Mailed Check\": \"Check\",\n",
    "}}\n",
    "df.replace(dict_pay, inplace = True)\n",
    "\n",
    "#Reexpressing the values of gender to be more concise.\n",
    "dict_gen = {\"gender\": {\n",
    "     \"Male\": \"M\",\n",
    "     \"Female\": \"F\",\n",
    "     \"Prefer not to say\": \"NB\",\n",
    "}}\n",
    "df.replace(dict_gen, inplace = True)\n",
    "\n",
    "#Reexpressing the values of marital to be more concise.\n",
    "dict_mar = {\"marital_type\": {\n",
    "     \"Never Married\": \"Single\",\n",
    "}}\n",
    "df.replace(dict_mar, inplace = True)\n",
    "\n",
    "#Changing the following to category data type.\n",
    "df_cat = ['area','marital_type',\n",
    "          'gender','payment_method','timely_response','timely_fixes',\n",
    "          'timely_replacements','reliability','options','respectful_response'\n",
    "          ,'courteous_exchange','active_listening'] \n",
    "df[df_cat] = df[df_cat].astype(\"category\")\n",
    "\n",
    "#Changing the following to string data type.\n",
    "df_string = ['zip','lat','lng'] \n",
    "df[df_string] = df[df_string].astype(\"str\")"
   ]
  },
  {
   "cell_type": "code",
   "execution_count": 5,
   "id": "8963e4ee",
   "metadata": {},
   "outputs": [
    {
     "data": {
      "text/html": [
       "<div>\n",
       "<style scoped>\n",
       "    .dataframe tbody tr th:only-of-type {\n",
       "        vertical-align: middle;\n",
       "    }\n",
       "\n",
       "    .dataframe tbody tr th {\n",
       "        vertical-align: top;\n",
       "    }\n",
       "\n",
       "    .dataframe thead th {\n",
       "        text-align: right;\n",
       "    }\n",
       "</style>\n",
       "<table border=\"1\" class=\"dataframe\">\n",
       "  <thead>\n",
       "    <tr style=\"text-align: right;\">\n",
       "      <th></th>\n",
       "      <th>customer_id</th>\n",
       "      <th>interaction</th>\n",
       "      <th>UID</th>\n",
       "      <th>city</th>\n",
       "      <th>state</th>\n",
       "      <th>county</th>\n",
       "      <th>zip</th>\n",
       "      <th>lat</th>\n",
       "      <th>lng</th>\n",
       "      <th>population</th>\n",
       "      <th>...</th>\n",
       "      <th>monthly_charge</th>\n",
       "      <th>bandwidth_gb_year</th>\n",
       "      <th>timely_response</th>\n",
       "      <th>timely_fixes</th>\n",
       "      <th>timely_replacements</th>\n",
       "      <th>reliability</th>\n",
       "      <th>options</th>\n",
       "      <th>respectful_response</th>\n",
       "      <th>courteous_exchange</th>\n",
       "      <th>active_listening</th>\n",
       "    </tr>\n",
       "    <tr>\n",
       "      <th>CaseOrder</th>\n",
       "      <th></th>\n",
       "      <th></th>\n",
       "      <th></th>\n",
       "      <th></th>\n",
       "      <th></th>\n",
       "      <th></th>\n",
       "      <th></th>\n",
       "      <th></th>\n",
       "      <th></th>\n",
       "      <th></th>\n",
       "      <th></th>\n",
       "      <th></th>\n",
       "      <th></th>\n",
       "      <th></th>\n",
       "      <th></th>\n",
       "      <th></th>\n",
       "      <th></th>\n",
       "      <th></th>\n",
       "      <th></th>\n",
       "      <th></th>\n",
       "      <th></th>\n",
       "    </tr>\n",
       "  </thead>\n",
       "  <tbody>\n",
       "    <tr>\n",
       "      <th>1</th>\n",
       "      <td>K409198</td>\n",
       "      <td>aa90260b-4141-4a24-8e36-b04ce1f4f77b</td>\n",
       "      <td>e885b299883d4f9fb18e39c75155d990</td>\n",
       "      <td>Point Baker</td>\n",
       "      <td>AK</td>\n",
       "      <td>Prince of Wales-Hyder</td>\n",
       "      <td>99927</td>\n",
       "      <td>56.251</td>\n",
       "      <td>-133.37571</td>\n",
       "      <td>38</td>\n",
       "      <td>...</td>\n",
       "      <td>172.455519</td>\n",
       "      <td>904.536110</td>\n",
       "      <td>5</td>\n",
       "      <td>5</td>\n",
       "      <td>5</td>\n",
       "      <td>3</td>\n",
       "      <td>4</td>\n",
       "      <td>4</td>\n",
       "      <td>3</td>\n",
       "      <td>4</td>\n",
       "    </tr>\n",
       "    <tr>\n",
       "      <th>2</th>\n",
       "      <td>S120509</td>\n",
       "      <td>fb76459f-c047-4a9d-8af9-e0f7d4ac2524</td>\n",
       "      <td>f2de8bef964785f41a2959829830fb8a</td>\n",
       "      <td>West Branch</td>\n",
       "      <td>MI</td>\n",
       "      <td>Ogemaw</td>\n",
       "      <td>48661</td>\n",
       "      <td>44.32893</td>\n",
       "      <td>-84.2408</td>\n",
       "      <td>10446</td>\n",
       "      <td>...</td>\n",
       "      <td>242.632554</td>\n",
       "      <td>800.982766</td>\n",
       "      <td>3</td>\n",
       "      <td>4</td>\n",
       "      <td>3</td>\n",
       "      <td>3</td>\n",
       "      <td>4</td>\n",
       "      <td>3</td>\n",
       "      <td>4</td>\n",
       "      <td>4</td>\n",
       "    </tr>\n",
       "    <tr>\n",
       "      <th>3</th>\n",
       "      <td>K191035</td>\n",
       "      <td>344d114c-3736-4be5-98f7-c72c281e2d35</td>\n",
       "      <td>f1784cfa9f6d92ae816197eb175d3c71</td>\n",
       "      <td>Yamhill</td>\n",
       "      <td>OR</td>\n",
       "      <td>Yamhill</td>\n",
       "      <td>97148</td>\n",
       "      <td>45.35589</td>\n",
       "      <td>-123.24657</td>\n",
       "      <td>3735</td>\n",
       "      <td>...</td>\n",
       "      <td>159.947583</td>\n",
       "      <td>2054.706961</td>\n",
       "      <td>4</td>\n",
       "      <td>4</td>\n",
       "      <td>2</td>\n",
       "      <td>4</td>\n",
       "      <td>4</td>\n",
       "      <td>3</td>\n",
       "      <td>3</td>\n",
       "      <td>3</td>\n",
       "    </tr>\n",
       "    <tr>\n",
       "      <th>4</th>\n",
       "      <td>D90850</td>\n",
       "      <td>abfa2b40-2d43-4994-b15a-989b8c79e311</td>\n",
       "      <td>dc8a365077241bb5cd5ccd305136b05e</td>\n",
       "      <td>Del Mar</td>\n",
       "      <td>CA</td>\n",
       "      <td>San Diego</td>\n",
       "      <td>92014</td>\n",
       "      <td>32.96687</td>\n",
       "      <td>-117.24798</td>\n",
       "      <td>13863</td>\n",
       "      <td>...</td>\n",
       "      <td>119.956840</td>\n",
       "      <td>2164.579412</td>\n",
       "      <td>4</td>\n",
       "      <td>4</td>\n",
       "      <td>4</td>\n",
       "      <td>2</td>\n",
       "      <td>5</td>\n",
       "      <td>4</td>\n",
       "      <td>3</td>\n",
       "      <td>3</td>\n",
       "    </tr>\n",
       "    <tr>\n",
       "      <th>5</th>\n",
       "      <td>K662701</td>\n",
       "      <td>68a861fd-0d20-4e51-a587-8a90407ee574</td>\n",
       "      <td>aabb64a116e83fdc4befc1fbab1663f9</td>\n",
       "      <td>Needville</td>\n",
       "      <td>TX</td>\n",
       "      <td>Fort Bend</td>\n",
       "      <td>77461</td>\n",
       "      <td>29.38012</td>\n",
       "      <td>-95.80673</td>\n",
       "      <td>11352</td>\n",
       "      <td>...</td>\n",
       "      <td>149.948316</td>\n",
       "      <td>271.493436</td>\n",
       "      <td>4</td>\n",
       "      <td>4</td>\n",
       "      <td>4</td>\n",
       "      <td>3</td>\n",
       "      <td>4</td>\n",
       "      <td>4</td>\n",
       "      <td>4</td>\n",
       "      <td>5</td>\n",
       "    </tr>\n",
       "  </tbody>\n",
       "</table>\n",
       "<p>5 rows × 49 columns</p>\n",
       "</div>"
      ],
      "text/plain": [
       "          customer_id                           interaction  \\\n",
       "CaseOrder                                                     \n",
       "1             K409198  aa90260b-4141-4a24-8e36-b04ce1f4f77b   \n",
       "2             S120509  fb76459f-c047-4a9d-8af9-e0f7d4ac2524   \n",
       "3             K191035  344d114c-3736-4be5-98f7-c72c281e2d35   \n",
       "4              D90850  abfa2b40-2d43-4994-b15a-989b8c79e311   \n",
       "5             K662701  68a861fd-0d20-4e51-a587-8a90407ee574   \n",
       "\n",
       "                                        UID         city state  \\\n",
       "CaseOrder                                                        \n",
       "1          e885b299883d4f9fb18e39c75155d990  Point Baker    AK   \n",
       "2          f2de8bef964785f41a2959829830fb8a  West Branch    MI   \n",
       "3          f1784cfa9f6d92ae816197eb175d3c71      Yamhill    OR   \n",
       "4          dc8a365077241bb5cd5ccd305136b05e      Del Mar    CA   \n",
       "5          aabb64a116e83fdc4befc1fbab1663f9    Needville    TX   \n",
       "\n",
       "                          county    zip       lat         lng  population  \\\n",
       "CaseOrder                                                                   \n",
       "1          Prince of Wales-Hyder  99927    56.251  -133.37571          38   \n",
       "2                         Ogemaw  48661  44.32893    -84.2408       10446   \n",
       "3                        Yamhill  97148  45.35589  -123.24657        3735   \n",
       "4                      San Diego  92014  32.96687  -117.24798       13863   \n",
       "5                      Fort Bend  77461  29.38012   -95.80673       11352   \n",
       "\n",
       "           ... monthly_charge bandwidth_gb_year timely_response  timely_fixes  \\\n",
       "CaseOrder  ...                                                                  \n",
       "1          ...     172.455519        904.536110               5             5   \n",
       "2          ...     242.632554        800.982766               3             4   \n",
       "3          ...     159.947583       2054.706961               4             4   \n",
       "4          ...     119.956840       2164.579412               4             4   \n",
       "5          ...     149.948316        271.493436               4             4   \n",
       "\n",
       "           timely_replacements  reliability options respectful_response  \\\n",
       "CaseOrder                                                                 \n",
       "1                            5            3       4                   4   \n",
       "2                            3            3       4                   3   \n",
       "3                            2            4       4                   3   \n",
       "4                            4            2       5                   4   \n",
       "5                            4            3       4                   4   \n",
       "\n",
       "          courteous_exchange  active_listening  \n",
       "CaseOrder                                       \n",
       "1                          3                 4  \n",
       "2                          4                 4  \n",
       "3                          3                 3  \n",
       "4                          3                 3  \n",
       "5                          4                 5  \n",
       "\n",
       "[5 rows x 49 columns]"
      ]
     },
     "execution_count": 5,
     "metadata": {},
     "output_type": "execute_result"
    }
   ],
   "source": [
    "df.head()"
   ]
  },
  {
   "cell_type": "code",
   "execution_count": 6,
   "id": "8769c36b",
   "metadata": {},
   "outputs": [
    {
     "data": {
      "text/html": [
       "<div>\n",
       "<style scoped>\n",
       "    .dataframe tbody tr th:only-of-type {\n",
       "        vertical-align: middle;\n",
       "    }\n",
       "\n",
       "    .dataframe tbody tr th {\n",
       "        vertical-align: top;\n",
       "    }\n",
       "\n",
       "    .dataframe thead th {\n",
       "        text-align: right;\n",
       "    }\n",
       "</style>\n",
       "<table border=\"1\" class=\"dataframe\">\n",
       "  <thead>\n",
       "    <tr style=\"text-align: right;\">\n",
       "      <th></th>\n",
       "      <th>population</th>\n",
       "      <th>children</th>\n",
       "      <th>age</th>\n",
       "      <th>income</th>\n",
       "      <th>outage_sec_perweek</th>\n",
       "      <th>email</th>\n",
       "      <th>contacts</th>\n",
       "      <th>yearly_equip_failure</th>\n",
       "      <th>tenure</th>\n",
       "      <th>monthly_charge</th>\n",
       "      <th>bandwidth_gb_year</th>\n",
       "    </tr>\n",
       "  </thead>\n",
       "  <tbody>\n",
       "    <tr>\n",
       "      <th>count</th>\n",
       "      <td>10000.000000</td>\n",
       "      <td>10000.0000</td>\n",
       "      <td>10000.000000</td>\n",
       "      <td>10000.000000</td>\n",
       "      <td>10000.000000</td>\n",
       "      <td>10000.000000</td>\n",
       "      <td>10000.000000</td>\n",
       "      <td>10000.000000</td>\n",
       "      <td>10000.000000</td>\n",
       "      <td>10000.000000</td>\n",
       "      <td>10000.000000</td>\n",
       "    </tr>\n",
       "    <tr>\n",
       "      <th>mean</th>\n",
       "      <td>9756.562400</td>\n",
       "      <td>2.0877</td>\n",
       "      <td>53.078400</td>\n",
       "      <td>39806.926771</td>\n",
       "      <td>10.001848</td>\n",
       "      <td>12.016000</td>\n",
       "      <td>0.994200</td>\n",
       "      <td>0.398000</td>\n",
       "      <td>34.526188</td>\n",
       "      <td>172.624816</td>\n",
       "      <td>3392.341550</td>\n",
       "    </tr>\n",
       "    <tr>\n",
       "      <th>std</th>\n",
       "      <td>14432.698671</td>\n",
       "      <td>2.1472</td>\n",
       "      <td>20.698882</td>\n",
       "      <td>28199.916702</td>\n",
       "      <td>2.976019</td>\n",
       "      <td>3.025898</td>\n",
       "      <td>0.988466</td>\n",
       "      <td>0.635953</td>\n",
       "      <td>26.443063</td>\n",
       "      <td>42.943094</td>\n",
       "      <td>2185.294852</td>\n",
       "    </tr>\n",
       "    <tr>\n",
       "      <th>min</th>\n",
       "      <td>0.000000</td>\n",
       "      <td>0.0000</td>\n",
       "      <td>18.000000</td>\n",
       "      <td>348.670000</td>\n",
       "      <td>0.099747</td>\n",
       "      <td>1.000000</td>\n",
       "      <td>0.000000</td>\n",
       "      <td>0.000000</td>\n",
       "      <td>1.000259</td>\n",
       "      <td>79.978860</td>\n",
       "      <td>155.506715</td>\n",
       "    </tr>\n",
       "    <tr>\n",
       "      <th>25%</th>\n",
       "      <td>738.000000</td>\n",
       "      <td>0.0000</td>\n",
       "      <td>35.000000</td>\n",
       "      <td>19224.717500</td>\n",
       "      <td>8.018214</td>\n",
       "      <td>10.000000</td>\n",
       "      <td>0.000000</td>\n",
       "      <td>0.000000</td>\n",
       "      <td>7.917694</td>\n",
       "      <td>139.979239</td>\n",
       "      <td>1236.470827</td>\n",
       "    </tr>\n",
       "    <tr>\n",
       "      <th>50%</th>\n",
       "      <td>2910.500000</td>\n",
       "      <td>1.0000</td>\n",
       "      <td>53.000000</td>\n",
       "      <td>33170.605000</td>\n",
       "      <td>10.018560</td>\n",
       "      <td>12.000000</td>\n",
       "      <td>1.000000</td>\n",
       "      <td>0.000000</td>\n",
       "      <td>35.430507</td>\n",
       "      <td>167.484700</td>\n",
       "      <td>3279.536903</td>\n",
       "    </tr>\n",
       "    <tr>\n",
       "      <th>75%</th>\n",
       "      <td>13168.000000</td>\n",
       "      <td>3.0000</td>\n",
       "      <td>71.000000</td>\n",
       "      <td>53246.170000</td>\n",
       "      <td>11.969485</td>\n",
       "      <td>14.000000</td>\n",
       "      <td>2.000000</td>\n",
       "      <td>1.000000</td>\n",
       "      <td>61.479795</td>\n",
       "      <td>200.734725</td>\n",
       "      <td>5586.141370</td>\n",
       "    </tr>\n",
       "    <tr>\n",
       "      <th>max</th>\n",
       "      <td>111850.000000</td>\n",
       "      <td>10.0000</td>\n",
       "      <td>89.000000</td>\n",
       "      <td>258900.700000</td>\n",
       "      <td>21.207230</td>\n",
       "      <td>23.000000</td>\n",
       "      <td>7.000000</td>\n",
       "      <td>6.000000</td>\n",
       "      <td>71.999280</td>\n",
       "      <td>290.160419</td>\n",
       "      <td>7158.981530</td>\n",
       "    </tr>\n",
       "  </tbody>\n",
       "</table>\n",
       "</div>"
      ],
      "text/plain": [
       "          population    children           age         income  \\\n",
       "count   10000.000000  10000.0000  10000.000000   10000.000000   \n",
       "mean     9756.562400      2.0877     53.078400   39806.926771   \n",
       "std     14432.698671      2.1472     20.698882   28199.916702   \n",
       "min         0.000000      0.0000     18.000000     348.670000   \n",
       "25%       738.000000      0.0000     35.000000   19224.717500   \n",
       "50%      2910.500000      1.0000     53.000000   33170.605000   \n",
       "75%     13168.000000      3.0000     71.000000   53246.170000   \n",
       "max    111850.000000     10.0000     89.000000  258900.700000   \n",
       "\n",
       "       outage_sec_perweek         email      contacts  yearly_equip_failure  \\\n",
       "count        10000.000000  10000.000000  10000.000000          10000.000000   \n",
       "mean            10.001848     12.016000      0.994200              0.398000   \n",
       "std              2.976019      3.025898      0.988466              0.635953   \n",
       "min              0.099747      1.000000      0.000000              0.000000   \n",
       "25%              8.018214     10.000000      0.000000              0.000000   \n",
       "50%             10.018560     12.000000      1.000000              0.000000   \n",
       "75%             11.969485     14.000000      2.000000              1.000000   \n",
       "max             21.207230     23.000000      7.000000              6.000000   \n",
       "\n",
       "             tenure  monthly_charge  bandwidth_gb_year  \n",
       "count  10000.000000    10000.000000       10000.000000  \n",
       "mean      34.526188      172.624816        3392.341550  \n",
       "std       26.443063       42.943094        2185.294852  \n",
       "min        1.000259       79.978860         155.506715  \n",
       "25%        7.917694      139.979239        1236.470827  \n",
       "50%       35.430507      167.484700        3279.536903  \n",
       "75%       61.479795      200.734725        5586.141370  \n",
       "max       71.999280      290.160419        7158.981530  "
      ]
     },
     "execution_count": 6,
     "metadata": {},
     "output_type": "execute_result"
    }
   ],
   "source": [
    "df.describe()"
   ]
  },
  {
   "cell_type": "code",
   "execution_count": 7,
   "id": "2d803a8a",
   "metadata": {},
   "outputs": [
    {
     "data": {
      "text/plain": [
       "No     7350\n",
       "Yes    2650\n",
       "Name: churn, dtype: int64"
      ]
     },
     "execution_count": 7,
     "metadata": {},
     "output_type": "execute_result"
    }
   ],
   "source": [
    "df.churn.value_counts()"
   ]
  },
  {
   "cell_type": "code",
   "execution_count": 8,
   "id": "1af1c94f",
   "metadata": {},
   "outputs": [
    {
     "data": {
      "text/plain": [
       "3    3448\n",
       "4    3358\n",
       "2    1393\n",
       "5    1359\n",
       "1     224\n",
       "6     199\n",
       "7      19\n",
       "Name: timely_response, dtype: int64"
      ]
     },
     "execution_count": 8,
     "metadata": {},
     "output_type": "execute_result"
    }
   ],
   "source": [
    "df.timely_response.value_counts()"
   ]
  },
  {
   "cell_type": "code",
   "execution_count": 9,
   "id": "1e25ca3c",
   "metadata": {},
   "outputs": [],
   "source": [
    "# Creating  a contingency table\n",
    "churn_crosstab = pd.crosstab(df['churn'], \n",
    "df['timely_response'], margins=True, margins_name=\"subtotal\")"
   ]
  },
  {
   "cell_type": "code",
   "execution_count": 10,
   "id": "12243550",
   "metadata": {},
   "outputs": [
    {
     "data": {
      "text/html": [
       "<div>\n",
       "<style scoped>\n",
       "    .dataframe tbody tr th:only-of-type {\n",
       "        vertical-align: middle;\n",
       "    }\n",
       "\n",
       "    .dataframe tbody tr th {\n",
       "        vertical-align: top;\n",
       "    }\n",
       "\n",
       "    .dataframe thead th {\n",
       "        text-align: right;\n",
       "    }\n",
       "</style>\n",
       "<table border=\"1\" class=\"dataframe\">\n",
       "  <thead>\n",
       "    <tr style=\"text-align: right;\">\n",
       "      <th>timely_response</th>\n",
       "      <th>1</th>\n",
       "      <th>2</th>\n",
       "      <th>3</th>\n",
       "      <th>4</th>\n",
       "      <th>5</th>\n",
       "      <th>6</th>\n",
       "      <th>7</th>\n",
       "      <th>subtotal</th>\n",
       "    </tr>\n",
       "    <tr>\n",
       "      <th>churn</th>\n",
       "      <th></th>\n",
       "      <th></th>\n",
       "      <th></th>\n",
       "      <th></th>\n",
       "      <th></th>\n",
       "      <th></th>\n",
       "      <th></th>\n",
       "      <th></th>\n",
       "    </tr>\n",
       "  </thead>\n",
       "  <tbody>\n",
       "    <tr>\n",
       "      <th>No</th>\n",
       "      <td>158</td>\n",
       "      <td>1002</td>\n",
       "      <td>2562</td>\n",
       "      <td>2473</td>\n",
       "      <td>994</td>\n",
       "      <td>146</td>\n",
       "      <td>15</td>\n",
       "      <td>7350</td>\n",
       "    </tr>\n",
       "    <tr>\n",
       "      <th>Yes</th>\n",
       "      <td>66</td>\n",
       "      <td>391</td>\n",
       "      <td>886</td>\n",
       "      <td>885</td>\n",
       "      <td>365</td>\n",
       "      <td>53</td>\n",
       "      <td>4</td>\n",
       "      <td>2650</td>\n",
       "    </tr>\n",
       "    <tr>\n",
       "      <th>subtotal</th>\n",
       "      <td>224</td>\n",
       "      <td>1393</td>\n",
       "      <td>3448</td>\n",
       "      <td>3358</td>\n",
       "      <td>1359</td>\n",
       "      <td>199</td>\n",
       "      <td>19</td>\n",
       "      <td>10000</td>\n",
       "    </tr>\n",
       "  </tbody>\n",
       "</table>\n",
       "</div>"
      ],
      "text/plain": [
       "timely_response    1     2     3     4     5    6   7  subtotal\n",
       "churn                                                          \n",
       "No               158  1002  2562  2473   994  146  15      7350\n",
       "Yes               66   391   886   885   365   53   4      2650\n",
       "subtotal         224  1393  3448  3358  1359  199  19     10000"
      ]
     },
     "execution_count": 10,
     "metadata": {},
     "output_type": "execute_result"
    }
   ],
   "source": [
    "churn_crosstab"
   ]
  },
  {
   "cell_type": "markdown",
   "id": "ce0bc9c9",
   "metadata": {},
   "source": [
    "#### (B2)"
   ]
  },
  {
   "cell_type": "code",
   "execution_count": 42,
   "id": "9c7ad30b",
   "metadata": {},
   "outputs": [
    {
     "data": {
      "text/plain": [
       "4.332077523616339"
      ]
     },
     "execution_count": 42,
     "metadata": {},
     "output_type": "execute_result"
    }
   ],
   "source": [
    "# Computing Chi-square test\n",
    "chi, p, dof, expected = chi2_contingency(churn_crosstab)\n",
    "chi"
   ]
  },
  {
   "cell_type": "markdown",
   "id": "b168c664",
   "metadata": {},
   "source": [
    "#### Reference\n",
    "- (1.)Suresh, A. (2023) I used the following website to learn about the different types of chi square tests. No code was copied from this.\n",
    "-  see section H for website."
   ]
  },
  {
   "cell_type": "code",
   "execution_count": 12,
   "id": "38047add",
   "metadata": {},
   "outputs": [
    {
     "data": {
      "text/plain": [
       "0.9931140425294132"
      ]
     },
     "execution_count": 12,
     "metadata": {},
     "output_type": "execute_result"
    }
   ],
   "source": [
    "# printing p-value\n",
    "p"
   ]
  },
  {
   "cell_type": "code",
   "execution_count": 13,
   "id": "d7d472b0",
   "metadata": {},
   "outputs": [],
   "source": [
    "# Creating  a contingency table\n",
    "heatmap = pd.crosstab(df['churn'], \n",
    "df['timely_response'])"
   ]
  },
  {
   "cell_type": "code",
   "execution_count": 14,
   "id": "3125991a",
   "metadata": {},
   "outputs": [
    {
     "data": {
      "image/png": "[encoded data removed]",
      "text/plain": [
       "<Figure size 640x480 with 2 Axes>"
      ]
     },
     "metadata": {},
     "output_type": "display_data"
    }
   ],
   "source": [
    "# Heatmap visualization of variables\n",
    "sns.heatmap(heatmap, annot = True,)\n",
    "\n",
    "plt.rcParams['figure.figsize'] = (10,7)\n",
    "plt.title('Chi-Square Heatmap')\n",
    "plt.show()"
   ]
  },
  {
   "cell_type": "markdown",
   "id": "7dd60b29",
   "metadata": {},
   "source": [
    "#### (B3)\n",
    "- I chose the Chi squared test due to wanting to know if the number of customers who were likely to churn in a given month and their beliefs on importance of a timely response was statistically significant compared to customers who were not likely to churn. Using Chi Square testing allows me to take two variables and find if there are any associations between the variables, to further drive insights. Furthermore,I looked at perfomring a T-test, but they are mainly used for comparing means of continous variables across to groups, becuase I am using both categorical and discrete variables this wouldn't give me proper insight in this analysis. Lastly the reason I didnt choose ANOVA testing is due to not selecting two or more groups of variables in this analysis."
   ]
  },
  {
   "cell_type": "markdown",
   "id": "82c90d56",
   "metadata": {},
   "source": [
    "#### (C1) Univariate Analysis\n",
    "\n",
    "Continuous Variables\n",
    "- `outage_sec_perweek`\n",
    "- `contacts`\n",
    "\n",
    "Categorical Variables\n",
    "- `internet_service`\n",
    "- `payment_method`"
   ]
  },
  {
   "cell_type": "code",
   "execution_count": 15,
   "id": "703e8966",
   "metadata": {},
   "outputs": [],
   "source": [
    "df_quant = df[['contacts','outage_sec_perweek']]"
   ]
  },
  {
   "cell_type": "code",
   "execution_count": 16,
   "id": "3e5fbfb9",
   "metadata": {},
   "outputs": [
    {
     "data": {
      "image/png": "[encoded data removed]",
      "text/plain": [
       "<Figure size 1600x500 with 2 Axes>"
      ]
     },
     "metadata": {},
     "output_type": "display_data"
    }
   ],
   "source": [
    "fig, axes = plt.subplots(1, 2, sharex=False, sharey=False, figsize=(16, 5), constrained_layout=True)\n",
    "\n",
    "# plot each col onto one ax\n",
    "for col, ax in zip(df_quant.columns, axes):\n",
    "    sns.histplot(df_quant[col], ax=ax, kde=True)\n",
    "    ax.set_title(col)"
   ]
  },
  {
   "cell_type": "code",
   "execution_count": 17,
   "id": "b4402243",
   "metadata": {},
   "outputs": [
    {
     "data": {
      "text/plain": [
       "Text(0.5, 1.0, 'Customer Internet Services')"
      ]
     },
     "execution_count": 17,
     "metadata": {},
     "output_type": "execute_result"
    },
    {
     "data": {
      "image/png": "[encoded data removed]",
      "text/plain": [
       "<Figure size 1500x500 with 2 Axes>"
      ]
     },
     "metadata": {},
     "output_type": "display_data"
    }
   ],
   "source": [
    "#Univariate analysis of categorical variables\n",
    "fig, axes = plt.subplots(1,2, figsize=(15, 5))\n",
    "\n",
    "#Barchart for payment method \n",
    "sns.countplot(data=df, x='payment_method', ax=axes[0])\n",
    "axes[0].set_title('Payment Method Analysis')\n",
    "\n",
    "# Pie chart of internet services\n",
    "internet_service = df['internet_service'].value_counts()\n",
    "axes[1].pie(internet_service, startangle=90, autopct='%.3f', labels=['DSL','Fiber Optic', 'None'])\n",
    "axes[1].set_title('Customer Internet Services')"
   ]
  },
  {
   "cell_type": "code",
   "execution_count": 40,
   "id": "53795406",
   "metadata": {},
   "outputs": [
    {
     "data": {
      "text/plain": [
       "count    10000.000000\n",
       "mean         0.994200\n",
       "std          0.988466\n",
       "min          0.000000\n",
       "25%          0.000000\n",
       "50%          1.000000\n",
       "75%          2.000000\n",
       "max          7.000000\n",
       "Name: contacts, dtype: float64"
      ]
     },
     "execution_count": 40,
     "metadata": {},
     "output_type": "execute_result"
    }
   ],
   "source": [
    "df.contacts.describe()"
   ]
  },
  {
   "cell_type": "code",
   "execution_count": 19,
   "id": "34f799f9",
   "metadata": {},
   "outputs": [
    {
     "data": {
      "text/plain": [
       "count    10000.000000\n",
       "mean        10.001848\n",
       "std          2.976019\n",
       "min          0.099747\n",
       "25%          8.018214\n",
       "50%         10.018560\n",
       "75%         11.969485\n",
       "max         21.207230\n",
       "Name: outage_sec_perweek, dtype: float64"
      ]
     },
     "execution_count": 19,
     "metadata": {},
     "output_type": "execute_result"
    }
   ],
   "source": [
    "df.outage_sec_perweek.describe()"
   ]
  },
  {
   "cell_type": "code",
   "execution_count": 20,
   "id": "4be6799b",
   "metadata": {},
   "outputs": [
    {
     "data": {
      "text/plain": [
       "Autopay    4312\n",
       "eCheck     3398\n",
       "Check      2290\n",
       "Name: payment_method, dtype: int64"
      ]
     },
     "execution_count": 20,
     "metadata": {},
     "output_type": "execute_result"
    }
   ],
   "source": [
    "df.payment_method.value_counts()"
   ]
  },
  {
   "cell_type": "code",
   "execution_count": 21,
   "id": "87148725",
   "metadata": {},
   "outputs": [
    {
     "data": {
      "text/plain": [
       "Fiber Optic    4408\n",
       "DSL            3463\n",
       "None           2129\n",
       "Name: internet_service, dtype: int64"
      ]
     },
     "execution_count": 21,
     "metadata": {},
     "output_type": "execute_result"
    }
   ],
   "source": [
    "df.internet_service.value_counts()"
   ]
  },
  {
   "cell_type": "markdown",
   "id": "70ba2c56",
   "metadata": {},
   "source": [
    "#### (D1) Bivariate Analysis\n",
    "\n",
    "Continuous Variables\n",
    "- `children`\n",
    "- `bandwidth_gb_year`\n",
    "\n",
    "Categorical Variables\n",
    "- `gender`\n",
    "- `techie`"
   ]
  },
  {
   "cell_type": "code",
   "execution_count": 22,
   "id": "eb5be29d",
   "metadata": {},
   "outputs": [
    {
     "data": {
      "text/plain": [
       "Text(0, 0.5, 'Bandwidth Usage')"
      ]
     },
     "execution_count": 22,
     "metadata": {},
     "output_type": "execute_result"
    },
    {
     "data": {
      "image/png": "[encoded data removed]",
      "text/plain": [
       "<Figure size 1000x700 with 1 Axes>"
      ]
     },
     "metadata": {},
     "output_type": "display_data"
    }
   ],
   "source": [
    "#Scatterplot comparing bandwdidth based on number of children\n",
    "plt.scatter(df.children, df.bandwidth_gb_year)\n",
    "plt.title(\"Bandwidth usage by number of children\")\n",
    "plt.xlabel(\"Number of Children\")\n",
    "plt.ylabel(\"Bandwidth Usage\")"
   ]
  },
  {
   "cell_type": "code",
   "execution_count": 23,
   "id": "76511ee2",
   "metadata": {},
   "outputs": [
    {
     "data": {
      "text/plain": [
       "<Axes: xlabel='techie', ylabel='count'>"
      ]
     },
     "execution_count": 23,
     "metadata": {},
     "output_type": "execute_result"
    },
    {
     "data": {
      "image/png": "[encoded data removed]",
      "text/plain": [
       "<Figure size 1000x700 with 1 Axes>"
      ]
     },
     "metadata": {},
     "output_type": "display_data"
    }
   ],
   "source": [
    "#Barplot comparing count of techie's among customers (split by gender)\n",
    "sns.countplot(x=\"techie\", hue=\"gender\", data=df)"
   ]
  },
  {
   "cell_type": "code",
   "execution_count": 29,
   "id": "59a16443",
   "metadata": {},
   "outputs": [
    {
     "data": {
      "text/html": [
       "<div>\n",
       "<style scoped>\n",
       "    .dataframe tbody tr th:only-of-type {\n",
       "        vertical-align: middle;\n",
       "    }\n",
       "\n",
       "    .dataframe tbody tr th {\n",
       "        vertical-align: top;\n",
       "    }\n",
       "\n",
       "    .dataframe thead th {\n",
       "        text-align: right;\n",
       "    }\n",
       "</style>\n",
       "<table border=\"1\" class=\"dataframe\">\n",
       "  <thead>\n",
       "    <tr style=\"text-align: right;\">\n",
       "      <th></th>\n",
       "      <th>contacts</th>\n",
       "      <th>outage_sec_perweek</th>\n",
       "    </tr>\n",
       "  </thead>\n",
       "  <tbody>\n",
       "    <tr>\n",
       "      <th>contacts</th>\n",
       "      <td>1.000000</td>\n",
       "      <td>0.015092</td>\n",
       "    </tr>\n",
       "    <tr>\n",
       "      <th>outage_sec_perweek</th>\n",
       "      <td>0.015092</td>\n",
       "      <td>1.000000</td>\n",
       "    </tr>\n",
       "  </tbody>\n",
       "</table>\n",
       "</div>"
      ],
      "text/plain": [
       "                    contacts  outage_sec_perweek\n",
       "contacts            1.000000            0.015092\n",
       "outage_sec_perweek  0.015092            1.000000"
      ]
     },
     "execution_count": 29,
     "metadata": {},
     "output_type": "execute_result"
    }
   ],
   "source": [
    "df[['contacts','outage_sec_perweek']].corr()"
   ]
  },
  {
   "cell_type": "code",
   "execution_count": 30,
   "id": "157b2923",
   "metadata": {},
   "outputs": [
    {
     "data": {
      "text/html": [
       "<div>\n",
       "<style scoped>\n",
       "    .dataframe tbody tr th:only-of-type {\n",
       "        vertical-align: middle;\n",
       "    }\n",
       "\n",
       "    .dataframe tbody tr th {\n",
       "        vertical-align: top;\n",
       "    }\n",
       "\n",
       "    .dataframe thead th {\n",
       "        text-align: right;\n",
       "    }\n",
       "</style>\n",
       "<table border=\"1\" class=\"dataframe\">\n",
       "  <thead>\n",
       "    <tr style=\"text-align: right;\">\n",
       "      <th></th>\n",
       "      <th>contacts</th>\n",
       "    </tr>\n",
       "  </thead>\n",
       "  <tbody>\n",
       "    <tr>\n",
       "      <th>count</th>\n",
       "      <td>10000.000000</td>\n",
       "    </tr>\n",
       "    <tr>\n",
       "      <th>mean</th>\n",
       "      <td>0.994200</td>\n",
       "    </tr>\n",
       "    <tr>\n",
       "      <th>std</th>\n",
       "      <td>0.988466</td>\n",
       "    </tr>\n",
       "    <tr>\n",
       "      <th>min</th>\n",
       "      <td>0.000000</td>\n",
       "    </tr>\n",
       "    <tr>\n",
       "      <th>25%</th>\n",
       "      <td>0.000000</td>\n",
       "    </tr>\n",
       "    <tr>\n",
       "      <th>50%</th>\n",
       "      <td>1.000000</td>\n",
       "    </tr>\n",
       "    <tr>\n",
       "      <th>75%</th>\n",
       "      <td>2.000000</td>\n",
       "    </tr>\n",
       "    <tr>\n",
       "      <th>max</th>\n",
       "      <td>7.000000</td>\n",
       "    </tr>\n",
       "  </tbody>\n",
       "</table>\n",
       "</div>"
      ],
      "text/plain": [
       "           contacts\n",
       "count  10000.000000\n",
       "mean       0.994200\n",
       "std        0.988466\n",
       "min        0.000000\n",
       "25%        0.000000\n",
       "50%        1.000000\n",
       "75%        2.000000\n",
       "max        7.000000"
      ]
     },
     "execution_count": 30,
     "metadata": {},
     "output_type": "execute_result"
    }
   ],
   "source": [
    "df[['contacts']].describe()"
   ]
  },
  {
   "cell_type": "code",
   "execution_count": 33,
   "id": "8bc41677",
   "metadata": {},
   "outputs": [
    {
     "data": {
      "text/html": [
       "<div>\n",
       "<style scoped>\n",
       "    .dataframe tbody tr th:only-of-type {\n",
       "        vertical-align: middle;\n",
       "    }\n",
       "\n",
       "    .dataframe tbody tr th {\n",
       "        vertical-align: top;\n",
       "    }\n",
       "\n",
       "    .dataframe thead th {\n",
       "        text-align: right;\n",
       "    }\n",
       "</style>\n",
       "<table border=\"1\" class=\"dataframe\">\n",
       "  <thead>\n",
       "    <tr style=\"text-align: right;\">\n",
       "      <th></th>\n",
       "      <th>outage_sec_perweek</th>\n",
       "    </tr>\n",
       "  </thead>\n",
       "  <tbody>\n",
       "    <tr>\n",
       "      <th>count</th>\n",
       "      <td>10000.000000</td>\n",
       "    </tr>\n",
       "    <tr>\n",
       "      <th>mean</th>\n",
       "      <td>10.001848</td>\n",
       "    </tr>\n",
       "    <tr>\n",
       "      <th>std</th>\n",
       "      <td>2.976019</td>\n",
       "    </tr>\n",
       "    <tr>\n",
       "      <th>min</th>\n",
       "      <td>0.099747</td>\n",
       "    </tr>\n",
       "    <tr>\n",
       "      <th>25%</th>\n",
       "      <td>8.018214</td>\n",
       "    </tr>\n",
       "    <tr>\n",
       "      <th>50%</th>\n",
       "      <td>10.018560</td>\n",
       "    </tr>\n",
       "    <tr>\n",
       "      <th>75%</th>\n",
       "      <td>11.969485</td>\n",
       "    </tr>\n",
       "    <tr>\n",
       "      <th>max</th>\n",
       "      <td>21.207230</td>\n",
       "    </tr>\n",
       "  </tbody>\n",
       "</table>\n",
       "</div>"
      ],
      "text/plain": [
       "       outage_sec_perweek\n",
       "count        10000.000000\n",
       "mean            10.001848\n",
       "std              2.976019\n",
       "min              0.099747\n",
       "25%              8.018214\n",
       "50%             10.018560\n",
       "75%             11.969485\n",
       "max             21.207230"
      ]
     },
     "execution_count": 33,
     "metadata": {},
     "output_type": "execute_result"
    }
   ],
   "source": [
    "df[['outage_sec_perweek']].describe()"
   ]
  },
  {
   "cell_type": "code",
   "execution_count": 25,
   "id": "8ddcc568",
   "metadata": {},
   "outputs": [
    {
     "data": {
      "text/html": [
       "<div>\n",
       "<style scoped>\n",
       "    .dataframe tbody tr th:only-of-type {\n",
       "        vertical-align: middle;\n",
       "    }\n",
       "\n",
       "    .dataframe tbody tr th {\n",
       "        vertical-align: top;\n",
       "    }\n",
       "\n",
       "    .dataframe thead th {\n",
       "        text-align: right;\n",
       "    }\n",
       "</style>\n",
       "<table border=\"1\" class=\"dataframe\">\n",
       "  <thead>\n",
       "    <tr style=\"text-align: right;\">\n",
       "      <th></th>\n",
       "      <th>children</th>\n",
       "      <th>bandwidth_gb_year</th>\n",
       "    </tr>\n",
       "  </thead>\n",
       "  <tbody>\n",
       "    <tr>\n",
       "      <th>children</th>\n",
       "      <td>1.000000</td>\n",
       "      <td>0.025585</td>\n",
       "    </tr>\n",
       "    <tr>\n",
       "      <th>bandwidth_gb_year</th>\n",
       "      <td>0.025585</td>\n",
       "      <td>1.000000</td>\n",
       "    </tr>\n",
       "  </tbody>\n",
       "</table>\n",
       "</div>"
      ],
      "text/plain": [
       "                   children  bandwidth_gb_year\n",
       "children           1.000000           0.025585\n",
       "bandwidth_gb_year  0.025585           1.000000"
      ]
     },
     "execution_count": 25,
     "metadata": {},
     "output_type": "execute_result"
    }
   ],
   "source": [
    "df[['children','bandwidth_gb_year']].corr()"
   ]
  },
  {
   "cell_type": "code",
   "execution_count": 26,
   "id": "18e2827e",
   "metadata": {},
   "outputs": [
    {
     "data": {
      "text/plain": [
       "F            5025\n",
       "M            4744\n",
       "Nonbinary     231\n",
       "Name: gender, dtype: int64"
      ]
     },
     "execution_count": 26,
     "metadata": {},
     "output_type": "execute_result"
    }
   ],
   "source": [
    "df.gender.value_counts()"
   ]
  },
  {
   "cell_type": "code",
   "execution_count": 27,
   "id": "84ea5578",
   "metadata": {},
   "outputs": [
    {
     "data": {
      "text/plain": [
       "No     8321\n",
       "Yes    1679\n",
       "Name: techie, dtype: int64"
      ]
     },
     "execution_count": 27,
     "metadata": {},
     "output_type": "execute_result"
    }
   ],
   "source": [
    "df.techie.value_counts()"
   ]
  },
  {
   "cell_type": "code",
   "execution_count": 28,
   "id": "a8dbf135",
   "metadata": {},
   "outputs": [
    {
     "name": "stdout",
     "output_type": "stream",
     "text": [
      "techie       No   Yes    All\n",
      "gender                      \n",
      "F          4157   868   5025\n",
      "M          3966   778   4744\n",
      "Nonbinary   198    33    231\n",
      "All        8321  1679  10000\n"
     ]
    }
   ],
   "source": [
    "#Bivariate variables in table, calculating correlation between categorical variables\n",
    "crosstab_1 = pd.crosstab(df['gender'], df['techie'], margins=True)\n",
    "print(crosstab_1)"
   ]
  },
  {
   "cell_type": "markdown",
   "id": "429dad46",
   "metadata": {},
   "source": [
    "#### (E) Summary\n",
    "\n",
    "(E1)\n",
    "- The significance level alpha for my hypothesis using chi-square testing is 0.05. After analysis the p-value of 0.993 is greater than the alpha, thus the analysis fails to reject the null hypothesis. To summarize a conclusion is unable to be made that there is any correlation between any the variables used in this analysis.\n",
    "\n",
    "(E2)\n",
    "- A major limitation of this analysis, is that we dont know the time period in which the responses were taken, and this may be something benefical to include in future datasets going forward. We are also limited to the 10,000 responses which further limits our ability to pull more valuable insight into correlation, we are also limited to our dataframe with responses from a single company, which is not indicative of the much larger telecom landscape. so we arent able to compare how different telecom providers perform on similar categories. \n",
    "\n",
    "(E2) When would chi-square tesst not work\n",
    "- Had I been working with numerical data the chi-square test would not have been a good choice due to it primarily being useful when using categorical data. ANOVA would have only been useful if I was looking to compare the average between 3+ variables (`monthly_charge`, `income`, `age`). If I was only looking to compare averages of just 2 quantitative variables `monthly_charge` and `tenure` as an example then the t-test would have worked the best for this type of analysis. If the data set was smaller ie less than 50 respondents than the chi-squared would struggle, and potentially lead to more innacurate results.\n",
    " \n",
    "\n",
    "(E3)\n",
    "- Though neither of the variables in the analysis showed any correlation between each other, I still believe that further analysis is required. I also recommend that we focus on using items such as limiting customer contacts and increasing key survey data to reduce the risk of customer churn."
   ]
  },
  {
   "cell_type": "markdown",
   "id": "810761cb",
   "metadata": {},
   "source": [
    "# Link to Panopto Recording\n",
    "\n",
    "Origianl submission: https://wgu.hosted.panopto.com/Panopto/Pages/Viewer.aspx?id=5b18b20b-558c-4de1-ac1b-b0ac01747c05&query=d207\n",
    "\n",
    "Revision 1: https://wgu.hosted.panopto.com/Panopto/Pages/Viewer.aspx?id=31ed9136-5115-4341-b244-b0af018a09a5"
   ]
  },
  {
   "cell_type": "markdown",
   "id": "235b648b",
   "metadata": {},
   "source": [
    "# References\n",
    "\n",
    "(G) Third Party Code\n",
    "No third party sources were used.\n",
    "\n",
    "\n",
    "(H) Sources\n",
    "No sources used."
   ]
  }
 ],
 "metadata": {
  "kernelspec": {
   "display_name": "Python 3 (ipykernel)",
   "language": "python",
   "name": "python3"
  },
  "language_info": {
   "codemirror_mode": {
    "name": "ipython",
    "version": 3
   },
   "file_extension": ".py",
   "mimetype": "text/x-python",
   "name": "python",
   "nbconvert_exporter": "python",
   "pygments_lexer": "ipython3",
   "version": "3.11.4"
  }
 },
 "nbformat": 4,
 "nbformat_minor": 5
}
